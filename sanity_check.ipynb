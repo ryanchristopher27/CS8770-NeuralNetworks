{
 "cells": [
  {
   "cell_type": "markdown",
   "metadata": {},
   "source": [
    "### Imports"
   ]
  },
  {
   "cell_type": "code",
   "execution_count": 1,
   "metadata": {},
   "outputs": [],
   "source": [
    "import torch\n",
    "import torch.nn as nn\n",
    "import torch.nn.functional as F\n",
    "from torch.autograd import Variable\n",
    "from torch.autograd import Function\n",
    "import torch.optim as optim\n",
    "import numpy as np\n",
    "import matplotlib\n",
    "import matplotlib.pyplot as plt"
   ]
  },
  {
   "cell_type": "markdown",
   "metadata": {},
   "source": [
    "### Create MLP"
   ]
  },
  {
   "cell_type": "code",
   "execution_count": 2,
   "metadata": {},
   "outputs": [],
   "source": [
    "class MLP(nn.Module):\n",
    "    def __init__(self):\n",
    "        super(MLP, self).__init__()\n",
    "        self.layers = nn.Sequential(\n",
    "            nn.Linear(2, 2),\n",
    "            nn.ReLU(),\n",
    "            nn.Linear(2, 1)\n",
    "        )        \n",
    "    def forward(self, x):\n",
    "        y_pred = self.layers(x)\n",
    "        return y_pred"
   ]
  },
  {
   "cell_type": "markdown",
   "metadata": {},
   "source": [
    "### Instantiate Model, Criterion, and Optimizer"
   ]
  },
  {
   "cell_type": "code",
   "execution_count": 3,
   "metadata": {},
   "outputs": [],
   "source": [
    "model = MLP()\n",
    "\n",
    "def criterion(out, label):\n",
    "    return (label - out) ** 2\n",
    "\n",
    "optimizer = optim.Adam(model.parameters(), lr=1e-1)"
   ]
  },
  {
   "cell_type": "markdown",
   "metadata": {},
   "source": [
    "### Create Dataset"
   ]
  },
  {
   "cell_type": "code",
   "execution_count": 4,
   "metadata": {},
   "outputs": [],
   "source": [
    "# xor data set\n",
    "data = torch.randn(4,2)\n",
    "data[0,0] = 0; data[0,1] = 0;\n",
    "data[1,0] = 1; data[1,1] = 1;\n",
    "data[2,0] = 0; data[2,1] = 1;\n",
    "data[3,0] = 1; data[3,1] = 0;\n",
    "\n",
    "L = torch.randn(4)\n",
    "L[0] = 0; L[1] = 0\n",
    "L[2] = 1; L[3] = 1"
   ]
  },
  {
   "cell_type": "markdown",
   "metadata": {},
   "source": [
    "### Perform Experiment"
   ]
  },
  {
   "cell_type": "code",
   "execution_count": 5,
   "metadata": {},
   "outputs": [
    {
     "data": {
      "image/png": "[encoded data removed]",
      "text/plain": [
       "<Figure size 1200x800 with 1 Axes>"
      ]
     },
     "metadata": {},
     "output_type": "display_data"
    }
   ],
   "source": [
    "for epoch in range(2000):\n",
    "    for i in range(4):\n",
    "        X = Variable(data[i,:])\n",
    "        Y = Variable(L[i])\n",
    "        optimizer.zero_grad()\n",
    "        outputs = model(X)\n",
    "        loss = criterion(outputs, Y)\n",
    "        loss.backward()\n",
    "        optimizer.step()\n",
    "\n",
    "x_min, x_max = data[:, 0].min()-0.1, data[:, 0].max()+0.1\n",
    "y_min, y_max = data[:, 1].min()-0.1, data[:, 1].max()+0.1\n",
    "spacing = min(x_max - x_min, y_max - y_min) / 100\n",
    "XX, YY = np.meshgrid(np.arange(x_min, x_max, spacing),\n",
    "               np.arange(y_min, y_max, spacing))\n",
    "datax = np.hstack((XX.ravel().reshape(-1,1), \n",
    "                  YY.ravel().reshape(-1,1)))\n",
    "data_t = torch.FloatTensor(datax)\n",
    "db_prob = model(data_t)\n",
    "clf = np.where(db_prob<0.5,0,1)\n",
    "Z = clf.reshape(XX.shape)\n",
    "plt.figure(figsize=(12,8))\n",
    "plt.contourf(XX, YY, Z, cmap=plt.cm.Accent, alpha=0.5)\n",
    "plt.scatter(data[:,0], data[:,1], c=L, cmap=plt.cm.Accent)\n",
    "plt.show()"
   ]
  }
 ],
 "metadata": {
  "kernelspec": {
   "display_name": "nn",
   "language": "python",
   "name": "python3"
  },
  "language_info": {
   "codemirror_mode": {
    "name": "ipython",
    "version": 3
   },
   "file_extension": ".py",
   "mimetype": "text/x-python",
   "name": "python",
   "nbconvert_exporter": "python",
   "pygments_lexer": "ipython3",
   "version": "3.11.7"
  }
 },
 "nbformat": 4,
 "nbformat_minor": 2
}
