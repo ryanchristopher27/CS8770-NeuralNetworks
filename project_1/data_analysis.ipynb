{
 "cells": [
  {
   "cell_type": "markdown",
   "metadata": {},
   "source": [
    "# Data Analysis"
   ]
  },
  {
   "cell_type": "markdown",
   "metadata": {},
   "source": [
    "### Imports"
   ]
  },
  {
   "cell_type": "code",
   "execution_count": 6,
   "metadata": {},
   "outputs": [],
   "source": [
    "from torchvision.datasets import MNIST\n",
    "import numpy as np\n",
    "import pandas as pd\n",
    "import torchvision.transforms as transforms\n"
   ]
  },
  {
   "cell_type": "markdown",
   "metadata": {},
   "source": [
    "### Get MNIST Dataset"
   ]
  },
  {
   "cell_type": "code",
   "execution_count": 7,
   "metadata": {},
   "outputs": [],
   "source": [
    "transforms = transforms.Compose([\n",
    "    transforms.ToTensor(),\n",
    "    transforms.Normalize((0.5,), (0.5,)),\n",
    "])\n",
    "\n",
    "train_dataset = MNIST(root='./data', train=True, download=True, transform=transforms)\n",
    "test_dataset = MNIST(root='./data', train=False, download=True, transform=transforms)\n",
    "\n",
    "# Convert the datasets to pandas DataFrames\n",
    "def dataset_to_dataframe(dataset):\n",
    "    data = []\n",
    "    for i in range(len(dataset)):\n",
    "        img, label = dataset[i]\n",
    "        data.append((img.view(-1).numpy(), label))\n",
    "\n",
    "    df = pd.DataFrame(data, columns=['image', 'label'])\n",
    "    return df\n",
    "\n",
    "train_df = dataset_to_dataframe(train_dataset)\n",
    "test_df = dataset_to_dataframe(test_dataset)"
   ]
  },
  {
   "cell_type": "markdown",
   "metadata": {},
   "source": [
    "### Dataset Distribution Analysis"
   ]
  },
  {
   "cell_type": "code",
   "execution_count": 9,
   "metadata": {},
   "outputs": [
    {
     "name": "stdout",
     "output_type": "stream",
     "text": [
      "Training Data Class Counts:\n",
      "label\n",
      "5    5421\n",
      "4    5842\n",
      "8    5851\n",
      "6    5918\n",
      "0    5923\n",
      "9    5949\n",
      "2    5958\n",
      "3    6131\n",
      "7    6265\n",
      "1    6742\n",
      "Name: count, dtype: int64\n",
      "\n",
      "Test Data Class Counts:\n",
      "label\n",
      "5     892\n",
      "6     958\n",
      "8     974\n",
      "0     980\n",
      "4     982\n",
      "9    1009\n",
      "3    1010\n",
      "7    1028\n",
      "2    1032\n",
      "1    1135\n",
      "Name: count, dtype: int64\n"
     ]
    }
   ],
   "source": [
    "train_class_counts = train_df['label'].value_counts()\n",
    "test_class_counts = test_df['label'].value_counts()\n",
    "\n",
    "print(\"Training Data Class Counts:\")\n",
    "print(train_class_counts.sort_values())\n",
    "\n",
    "print(\"\\nTest Data Class Counts:\")\n",
    "print(test_class_counts.sort_values())"
   ]
  },
  {
   "cell_type": "markdown",
   "metadata": {},
   "source": [
    "### Trim Training Dataset to Even Distribution"
   ]
  },
  {
   "cell_type": "code",
   "execution_count": 11,
   "metadata": {},
   "outputs": [
    {
     "name": "stdout",
     "output_type": "stream",
     "text": [
      "Training Data Class Counts:\n",
      "label\n",
      "0    5000\n",
      "1    5000\n",
      "2    5000\n",
      "3    5000\n",
      "4    5000\n",
      "5    5000\n",
      "6    5000\n",
      "7    5000\n",
      "8    5000\n",
      "9    5000\n",
      "Name: count, dtype: int64\n"
     ]
    }
   ],
   "source": [
    "instances_per_class = 5000\n",
    "\n",
    "trimmed_train_df = train_df.groupby('label').apply(lambda x: x.sample(instances_per_class)).reset_index(drop=True)\n",
    "\n",
    "# print(trimmed_train_df)\n",
    "\n",
    "trimmed_train_class_counts = trimmed_train_df['label'].value_counts()\n",
    "\n",
    "print(\"Training Data Class Counts:\")\n",
    "print(trimmed_train_class_counts.sort_values())"
   ]
  }
 ],
 "metadata": {
  "kernelspec": {
   "display_name": "Python 3",
   "language": "python",
   "name": "python3"
  },
  "language_info": {
   "codemirror_mode": {
    "name": "ipython",
    "version": 3
   },
   "file_extension": ".py",
   "mimetype": "text/x-python",
   "name": "python",
   "nbconvert_exporter": "python",
   "pygments_lexer": "ipython3",
   "version": "3.11.7"
  }
 },
 "nbformat": 4,
 "nbformat_minor": 2
}
