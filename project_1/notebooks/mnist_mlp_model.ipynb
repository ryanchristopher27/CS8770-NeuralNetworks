{
 "cells": [
  {
   "cell_type": "code",
   "execution_count": 38,
   "metadata": {},
   "outputs": [],
   "source": [
    "%matplotlib inline"
   ]
  },
  {
   "cell_type": "markdown",
   "metadata": {},
   "source": [
    "### Install Python Packages"
   ]
  },
  {
   "cell_type": "code",
   "execution_count": 39,
   "metadata": {},
   "outputs": [],
   "source": [
    "# include our Python packages\n",
    "import torch\n",
    "import torch.nn as nn\n",
    "import torch.nn.functional as F\n",
    "from torch.autograd import Variable\n",
    "from torch.autograd import Function\n",
    "import torch.optim as optim\n",
    "import numpy as np\n",
    "import matplotlib\n",
    "import matplotlib.pyplot as plt\n",
    "import torchvision.transforms as transforms\n",
    "from torchvision.datasets import MNIST\n",
    "from torch.utils.data import DataLoader, SubsetRandomSampler\n",
    "from tqdm import tqdm\n",
    "import time\n",
    "\n",
    "from utils import *"
   ]
  },
  {
   "cell_type": "code",
   "execution_count": 40,
   "metadata": {},
   "outputs": [
    {
     "data": {
      "text/plain": [
       "True"
      ]
     },
     "execution_count": 40,
     "metadata": {},
     "output_type": "execute_result"
    }
   ],
   "source": [
    "torch.cuda.is_available()"
   ]
  },
  {
   "cell_type": "markdown",
   "metadata": {},
   "source": [
    "### GPU Setup"
   ]
  },
  {
   "cell_type": "code",
   "execution_count": 41,
   "metadata": {},
   "outputs": [
    {
     "name": "stdout",
     "output_type": "stream",
     "text": [
      "0\n",
      "NVIDIA GeForce RTX 3060 Ti\n",
      "<torch.cuda.device object at 0x0000020F5B804410>\n",
      "1\n",
      "cuda\n"
     ]
    }
   ],
   "source": [
    "if torch.cuda.is_available():\n",
    "    print(torch.cuda.current_device())     # The ID of the current GPU.\n",
    "    print(torch.cuda.get_device_name(id))  # The name of the specified GPU, where id is an integer.\n",
    "    print(torch.cuda.device(id))           # The memory address of the specified GPU, where id is an integer.\n",
    "    print(torch.cuda.device_count())\n",
    "\n",
    "on_gpu = torch.cuda.is_available()\n",
    "\n",
    "device = torch.device(\"cuda\" if torch.cuda.is_available() else \"cpu\")\n",
    "print(device)"
   ]
  },
  {
   "cell_type": "markdown",
   "metadata": {},
   "source": [
    "### Get MNIST Dataset and DataLoader"
   ]
  },
  {
   "cell_type": "code",
   "execution_count": 42,
   "metadata": {},
   "outputs": [],
   "source": [
    "transform = transforms.Compose([\n",
    "    transforms.ToTensor(),\n",
    "    transforms.Normalize((0.5,), (0.5,)),\n",
    "])\n",
    "\n",
    "# # Flatten operation (assuming you want to flatten the tensor along the spatial dimensions)\n",
    "# flatten = transforms.Lambda(lambda x: x.view(-1))\n",
    "\n",
    "# # Combine the original transforms with the flatten operation\n",
    "# combined_transform = transforms.Compose([\n",
    "#     transform,\n",
    "#     flatten,\n",
    "# ])\n",
    "\n",
    "train_dataset = MNIST(root='./data', train=True, transform=transform, download=True)\n",
    "# train_loader = DataLoader(dataset=train_dataset, batch_size=50, shuffle=True)\n",
    "\n",
    "# train_df = dataset_to_dataframe(train_dataset)\n",
    "# trimmed_train_df = train_df.groupby('labels', group_keys=True, as_index=False).apply(lambda x: x.sample(5400)).reset_index(names=['labels1', 'index'])\n",
    "# custom_train_dataset = CustomDataset(trimmed_train_df)\n",
    "# train_loader = DataLoader(dataset=custom_train_dataset, batch_size=50, shuffle=True)\n",
    "\n",
    "train_selected_indices = get_even_class_indices(train_dataset, count=5000)\n",
    "train_subset_sampler = SubsetRandomSampler(train_selected_indices)\n",
    "train_loader = DataLoader(train_dataset, batch_size=50, sampler=train_subset_sampler)\n",
    "\n",
    "\n",
    "test_dataset = MNIST(root='./data', train=False, download=True, transform=transform)\n",
    "# test_loader = DataLoader(dataset=test_dataset, batch_size=50, shuffle=True)\n",
    "\n",
    "# test_df = dataset_to_dataframe(test_dataset)\n",
    "# trimmed_test_df = test_df.groupby('labels', group_keys=False, as_index=False).apply(lambda x: x.sample(890)).reset_index(names=['labels1', 'index'])\n",
    "# custom_test_dataset = CustomDataset(trimmed_test_df)\n",
    "# test_loader = DataLoader(dataset=custom_test_dataset, batch_size=50, shuffle=True)\n",
    "\n",
    "test_selected_indices = get_even_class_indices(test_dataset, count=850)\n",
    "test_subset_sampler = SubsetRandomSampler(test_selected_indices)\n",
    "test_loader = DataLoader(test_dataset, batch_size=50, sampler=test_subset_sampler)"
   ]
  },
  {
   "cell_type": "markdown",
   "metadata": {},
   "source": [
    "#### View Images"
   ]
  },
  {
   "cell_type": "code",
   "execution_count": 43,
   "metadata": {},
   "outputs": [
    {
     "data": {
      "image/png": "[encoded data removed]",
      "text/plain": [
       "<Figure size 640x480 with 6 Axes>"
      ]
     },
     "metadata": {},
     "output_type": "display_data"
    }
   ],
   "source": [
    "examples = enumerate(test_loader)\n",
    "batch_idx, (example_data, example_targets) = next(examples)\n",
    "\n",
    "fig = plt.figure()\n",
    "for i in range(6):\n",
    "  plt.subplot(2,3,i+1)\n",
    "  plt.tight_layout()\n",
    "  plt.imshow(example_data[i][0], cmap='gray', interpolation='none')\n",
    "  plt.title(\"Ground Truth: {}\".format(example_targets[i]))\n",
    "  plt.xticks([])\n",
    "  plt.yticks([])"
   ]
  },
  {
   "cell_type": "markdown",
   "metadata": {},
   "source": [
    "### Create MLP"
   ]
  },
  {
   "cell_type": "code",
   "execution_count": 44,
   "metadata": {},
   "outputs": [],
   "source": [
    "class Main_MLP(nn.Module):\n",
    "    def __init__(self):\n",
    "        super(Main_MLP, self).__init__()\n",
    "        self.layers = nn.Sequential(\n",
    "            nn.Flatten(),\n",
    "            nn.Linear(28*28, 2000),\n",
    "            nn.ReLU(),\n",
    "            nn.Linear(2000, 2000),\n",
    "            nn.ReLU(),\n",
    "            nn.Linear(2000, 256),\n",
    "            nn.ReLU(),\n",
    "            nn.Linear(256, 10),\n",
    "        )\n",
    "    def forward(self, x):\n",
    "        y_pred = self.layers(x)\n",
    "        return y_pred\n",
    "    \n",
    "class Wide_MLP(nn.Module):\n",
    "    def __init__(self):\n",
    "        super(Wide_MLP, self).__init__()\n",
    "        self.layers = nn.Sequential(\n",
    "            nn.Flatten(),\n",
    "            nn.Linear(28*28, 28*28*4),\n",
    "            nn.ReLU(),\n",
    "            nn.Linear(28*28*4, 28*28*4),\n",
    "            nn.ReLU(),\n",
    "            nn.Linear(28*28*4, 10),\n",
    "            nn.Softmax(),\n",
    "        )\n",
    "    \n",
    "    def forward(self, x):\n",
    "        y_pred = self.layers(x)\n",
    "        return y_pred\n",
    "    \n",
    "class Deep_MLP(nn.Module):\n",
    "    def __init__(self):\n",
    "        super(Deep_MLP, self).__init__()\n",
    "        self.layers = nn.Sequential(\n",
    "            nn.Flatten(),\n",
    "            nn.Linear(28*28, 28*28),\n",
    "            nn.ReLU(),\n",
    "            nn.Linear(28*28, 28*28),\n",
    "            nn.ReLU(),\n",
    "            nn.Linear(28*28, 28*28),\n",
    "            nn.ReLU(),\n",
    "            nn.Linear(28*28, 392),\n",
    "            nn.ReLU(),\n",
    "            nn.Linear(392, 392),\n",
    "            nn.ReLU(),\n",
    "            nn.Linear(392, 10),\n",
    "            nn.Softmax(),\n",
    "        )\n",
    "    \n",
    "    def forward(self, x):\n",
    "        y_pred = self.layers(x)\n",
    "        return y_pred\n",
    "    \n",
    "# =========================================================\n",
    "# nn.Flatten(),\n",
    "# nn.Linear(28*28, 28*28),\n",
    "# nn.ReLU(),\n",
    "# nn.Linear(28*28, 512),\n",
    "# nn.ReLU(),\n",
    "# nn.Linear(512, 256),\n",
    "# nn.ReLU(),\n",
    "# nn.Linear(256, 128),\n",
    "# nn.ReLU(),\n",
    "# nn.Linear(128, 10),\n",
    "    \n",
    "# nn.Flatten(),\n",
    "# nn.Linear(28*28, 28*28),\n",
    "# nn.ReLU(),\n",
    "# nn.Linear(28*28, 28*28),\n",
    "# nn.ReLU(),\n",
    "# nn.Linear(28*28, 512),\n",
    "# nn.ReLU(),\n",
    "# nn.Linear(512, 256),\n",
    "# nn.ReLU(),\n",
    "# nn.Linear(256, 128),\n",
    "# nn.ReLU(),\n",
    "# nn.Linear(128, 10),"
   ]
  },
  {
   "cell_type": "markdown",
   "metadata": {},
   "source": [
    "### Select Model and Define HyperParameters"
   ]
  },
  {
   "cell_type": "code",
   "execution_count": 45,
   "metadata": {},
   "outputs": [
    {
     "name": "stdout",
     "output_type": "stream",
     "text": [
      "Wide_MLP(\n",
      "  (layers): Sequential(\n",
      "    (0): Flatten(start_dim=1, end_dim=-1)\n",
      "    (1): Linear(in_features=784, out_features=3136, bias=True)\n",
      "    (2): ReLU()\n",
      "    (3): Linear(in_features=3136, out_features=3136, bias=True)\n",
      "    (4): ReLU()\n",
      "    (5): Linear(in_features=3136, out_features=10, bias=True)\n",
      "    (6): Softmax(dim=None)\n",
      "  )\n",
      ")\n"
     ]
    }
   ],
   "source": [
    "# model = Main_MLP()\n",
    "model = Wide_MLP()\n",
    "# model = Deep_MLP()\n",
    "\n",
    "print(model)\n",
    "\n",
    "epochs = 50\n",
    "learning_rate = 0.01\n",
    "momentum = 0.9\n",
    "\n",
    "optimizer = optim.SGD(model.parameters(), lr=learning_rate, momentum=momentum)\n",
    "# optimizer = optim.Adam(model.parameters(), lr=learning_rate)\n",
    "\n",
    "criterion = nn.CrossEntropyLoss()\n",
    "\n",
    "status_interval = 10"
   ]
  },
  {
   "cell_type": "markdown",
   "metadata": {},
   "source": [
    "### Move Model and Data to GPU"
   ]
  },
  {
   "cell_type": "code",
   "execution_count": 46,
   "metadata": {},
   "outputs": [
    {
     "name": "stdout",
     "output_type": "stream",
     "text": [
      "Moving to Device\n"
     ]
    }
   ],
   "source": [
    "if torch.cuda.is_available():\n",
    "    print(\"Moving to Device\")\n",
    "    model.to(device)"
   ]
  },
  {
   "cell_type": "markdown",
   "metadata": {},
   "source": [
    "### Define Training Function"
   ]
  },
  {
   "cell_type": "code",
   "execution_count": 47,
   "metadata": {},
   "outputs": [],
   "source": [
    "train_loss_epoch = np.zeros(epochs)\n",
    "val_loss_epoch = np.zeros(epochs)\n",
    "\n",
    "train_acc_epoch = np.zeros(epochs)\n",
    "val_acc_epoch = np.zeros(epochs)\n",
    "\n",
    "train_correct_epoch = np.zeros(epochs)\n",
    "val_correct_epoch = np.zeros(epochs)\n",
    "\n",
    "def train(epoch, dataloader, optimizer):\n",
    "    model.train()\n",
    "\n",
    "    batch_count = len(dataloader)\n",
    "\n",
    "    loss_accumulator = 0\n",
    "    correct_accumulator = 0\n",
    "\n",
    "    print(f'Train Epoch: {epoch+1}')\n",
    "\n",
    "    for batch, (data, label) in tqdm(enumerate(dataloader), total=batch_count):\n",
    "        if on_gpu:\n",
    "            data, label = data.to(device), label.to(device)\n",
    "        optimizer.zero_grad()\n",
    "        output = model(data)\n",
    "\n",
    "        loss = criterion(output, label)\n",
    "        loss.backward()\n",
    "\n",
    "        optimizer.step()\n",
    "\n",
    "        loss_accumulator += loss.item()\n",
    "\n",
    "        pred = output.data.max(1, keepdim=True)[1]\n",
    "        correct_accumulator += pred.eq(label.data.view_as(pred)).sum()\n",
    "\n",
    "\n",
    "    train_loss_epoch[epoch] = loss_accumulator / batch_count\n",
    "    train_acc_epoch[epoch] = correct_accumulator / len(dataloader.dataset)\n",
    "    train_correct_epoch[epoch] = correct_accumulator\n",
    "\n",
    "    print(f'Train Set: Average Batch Loss: {loss_accumulator/batch_count:.6f}, Accuracy: {correct_accumulator}/{len(dataloader.dataset)} ({100 * correct_accumulator / len(dataloader.dataset):.0f}%)')"
   ]
  },
  {
   "cell_type": "markdown",
   "metadata": {},
   "source": [
    "### Define Validation Function"
   ]
  },
  {
   "cell_type": "code",
   "execution_count": 48,
   "metadata": {},
   "outputs": [],
   "source": [
    "def validation(epoch, dataloader):\n",
    "    model.eval()\n",
    "    loss_accumulator = 0\n",
    "    correct_accumulator = 0\n",
    "\n",
    "    with torch.no_grad():\n",
    "        for data, label in dataloader:\n",
    "            if on_gpu:\n",
    "                data, label = data.to(device), label.to(device)\n",
    "            output = model(data)\n",
    "\n",
    "            loss_accumulator += criterion(output, label)\n",
    "\n",
    "            pred = output.data.max(1, keepdim=True)[1]\n",
    "            correct_accumulator += pred.eq(label.data.view_as(pred)).sum()\n",
    "\n",
    "    val_loss_epoch[epoch] = loss_accumulator / len(dataloader)\n",
    "    val_acc_epoch[epoch] = correct_accumulator / len(dataloader.dataset)\n",
    "    val_correct_epoch[epoch] = correct_accumulator\n",
    "\n",
    "    print(f'\\nVal Set: Loss: {loss_accumulator/len(dataloader.dataset):.6f}, Accuracy: {correct_accumulator}/{len(dataloader.dataset)} ({100 * correct_accumulator / len(dataloader.dataset):.0f}%)')"
   ]
  },
  {
   "cell_type": "markdown",
   "metadata": {},
   "source": [
    "### Define Testing Function"
   ]
  },
  {
   "cell_type": "code",
   "execution_count": 49,
   "metadata": {},
   "outputs": [],
   "source": [
    "def test(dataloader):\n",
    "    model.eval()\n",
    "    loss_accumulator = 0\n",
    "    correct_accumulator = 0\n",
    "\n",
    "    y_pred = np.zeros((len(dataloader) * dataloader.batch_size, 1))\n",
    "    y_true = np.zeros(len(dataloader) * dataloader.batch_size)\n",
    "\n",
    "    with torch.no_grad():\n",
    "        for i, (data, label) in enumerate(dataloader):\n",
    "            if on_gpu:\n",
    "                data, label = data.to(device), label.to(device)\n",
    "            output = model(data)\n",
    "\n",
    "            loss_accumulator += criterion(output, label)\n",
    "\n",
    "            pred = output.data.max(1, keepdim=True)[1]\n",
    "            correct_accumulator += pred.eq(label.data.view_as(pred)).sum()\n",
    "\n",
    "            y_pred[i * dataloader.batch_size : (i + 1) * dataloader.batch_size] = pred.cpu()\n",
    "            y_true[i * dataloader.batch_size : (i + 1) * dataloader.batch_size] = label.cpu()\n",
    "\n",
    "    test_loss = loss_accumulator/len(dataloader.dataset)\n",
    "    test_accuracy = correct_accumulator/len(dataloader.dataset)\n",
    "    test_correct = correct_accumulator\n",
    "\n",
    "    print(f'\\nTest Set: Loss: {test_loss:.6f}, Accuracy: {test_correct}/{len(dataloader.dataset)} ({100 * test_accuracy:.0f}%)')\n",
    "\n",
    "    y_pred = y_pred.flatten()\n",
    "\n",
    "    return y_pred, y_true"
   ]
  },
  {
   "cell_type": "markdown",
   "metadata": {},
   "source": [
    "### Train Model"
   ]
  },
  {
   "cell_type": "code",
   "execution_count": 50,
   "metadata": {},
   "outputs": [
    {
     "name": "stdout",
     "output_type": "stream",
     "text": [
      "==========================================================================================\n",
      "Train Epoch: 1\n"
     ]
    },
    {
     "name": "stderr",
     "output_type": "stream",
     "text": [
      "  0%|          | 0/1000 [00:00<?, ?it/s]c:\\Users\\rdash\\anaconda3\\envs\\conda_gpu\\Lib\\site-packages\\torch\\nn\\modules\\module.py:1511: UserWarning: Implicit dimension choice for softmax has been deprecated. Change the call to include dim=X as an argument.\n",
      "  return self._call_impl(*args, **kwargs)\n",
      "100%|██████████| 1000/1000 [00:07<00:00, 142.16it/s]\n"
     ]
    },
    {
     "name": "stdout",
     "output_type": "stream",
     "text": [
      "Train Set: Average Batch Loss: 1.736083, Accuracy: 37686/60000 (63%)\n",
      "\n",
      "Val Set: Loss: 0.026881, Accuracy: 7615/10000 (76%)\n",
      "==========================================================================================\n",
      "Train Epoch: 2\n"
     ]
    },
    {
     "name": "stderr",
     "output_type": "stream",
     "text": [
      "100%|██████████| 1000/1000 [00:07<00:00, 141.24it/s]\n"
     ]
    },
    {
     "name": "stdout",
     "output_type": "stream",
     "text": [
      "Train Set: Average Batch Loss: 1.559671, Accuracy: 45516/60000 (76%)\n",
      "\n",
      "Val Set: Loss: 0.026294, Accuracy: 7850/10000 (78%)\n",
      "==========================================================================================\n",
      "Train Epoch: 3\n"
     ]
    },
    {
     "name": "stderr",
     "output_type": "stream",
     "text": [
      "100%|██████████| 1000/1000 [00:07<00:00, 136.63it/s]\n"
     ]
    },
    {
     "name": "stdout",
     "output_type": "stream",
     "text": [
      "Train Set: Average Batch Loss: 1.537627, Accuracy: 46477/60000 (77%)\n",
      "\n",
      "Val Set: Loss: 0.026111, Accuracy: 7904/10000 (79%)\n",
      "==========================================================================================\n",
      "Train Epoch: 4\n"
     ]
    },
    {
     "name": "stderr",
     "output_type": "stream",
     "text": [
      "100%|██████████| 1000/1000 [00:07<00:00, 141.66it/s]\n"
     ]
    },
    {
     "name": "stdout",
     "output_type": "stream",
     "text": [
      "Train Set: Average Batch Loss: 1.524002, Accuracy: 47113/60000 (79%)\n",
      "\n",
      "Val Set: Loss: 0.026000, Accuracy: 7960/10000 (80%)\n",
      "==========================================================================================\n",
      "Train Epoch: 5\n"
     ]
    },
    {
     "name": "stderr",
     "output_type": "stream",
     "text": [
      "100%|██████████| 1000/1000 [00:07<00:00, 141.01it/s]\n"
     ]
    },
    {
     "name": "stdout",
     "output_type": "stream",
     "text": [
      "Train Set: Average Batch Loss: 1.515118, Accuracy: 47531/60000 (79%)\n",
      "\n",
      "Val Set: Loss: 0.025716, Accuracy: 8093/10000 (81%)\n",
      "==========================================================================================\n",
      "Train Epoch: 6\n"
     ]
    },
    {
     "name": "stderr",
     "output_type": "stream",
     "text": [
      "100%|██████████| 1000/1000 [00:07<00:00, 140.23it/s]\n"
     ]
    },
    {
     "name": "stdout",
     "output_type": "stream",
     "text": [
      "Train Set: Average Batch Loss: 1.507912, Accuracy: 47860/60000 (80%)\n",
      "\n",
      "Val Set: Loss: 0.025626, Accuracy: 8128/10000 (81%)\n",
      "==========================================================================================\n",
      "Train Epoch: 7\n"
     ]
    },
    {
     "name": "stderr",
     "output_type": "stream",
     "text": [
      "100%|██████████| 1000/1000 [00:07<00:00, 136.33it/s]\n"
     ]
    },
    {
     "name": "stdout",
     "output_type": "stream",
     "text": [
      "Train Set: Average Batch Loss: 1.501862, Accuracy: 48172/60000 (80%)\n",
      "\n",
      "Val Set: Loss: 0.025571, Accuracy: 8168/10000 (82%)\n",
      "==========================================================================================\n",
      "Train Epoch: 8\n"
     ]
    },
    {
     "name": "stderr",
     "output_type": "stream",
     "text": [
      "100%|██████████| 1000/1000 [00:07<00:00, 140.79it/s]\n"
     ]
    },
    {
     "name": "stdout",
     "output_type": "stream",
     "text": [
      "Train Set: Average Batch Loss: 1.497946, Accuracy: 48353/60000 (81%)\n",
      "\n",
      "Val Set: Loss: 0.025476, Accuracy: 8209/10000 (82%)\n",
      "==========================================================================================\n",
      "Train Epoch: 9\n"
     ]
    },
    {
     "name": "stderr",
     "output_type": "stream",
     "text": [
      "100%|██████████| 1000/1000 [00:07<00:00, 139.40it/s]\n"
     ]
    },
    {
     "name": "stdout",
     "output_type": "stream",
     "text": [
      "Train Set: Average Batch Loss: 1.493757, Accuracy: 48536/60000 (81%)\n",
      "\n",
      "Val Set: Loss: 0.025417, Accuracy: 8232/10000 (82%)\n",
      "==========================================================================================\n",
      "Train Epoch: 10\n"
     ]
    },
    {
     "name": "stderr",
     "output_type": "stream",
     "text": [
      "100%|██████████| 1000/1000 [00:07<00:00, 141.03it/s]\n"
     ]
    },
    {
     "name": "stdout",
     "output_type": "stream",
     "text": [
      "Train Set: Average Batch Loss: 1.490510, Accuracy: 48681/60000 (81%)\n",
      "\n",
      "Val Set: Loss: 0.025412, Accuracy: 8237/10000 (82%)\n",
      "==========================================================================================\n",
      "Train Epoch: 11\n"
     ]
    },
    {
     "name": "stderr",
     "output_type": "stream",
     "text": [
      "100%|██████████| 1000/1000 [00:06<00:00, 143.93it/s]\n"
     ]
    },
    {
     "name": "stdout",
     "output_type": "stream",
     "text": [
      "Train Set: Average Batch Loss: 1.487762, Accuracy: 48821/60000 (81%)\n",
      "\n",
      "Val Set: Loss: 0.025394, Accuracy: 8244/10000 (82%)\n",
      "==========================================================================================\n",
      "Train Epoch: 12\n"
     ]
    },
    {
     "name": "stderr",
     "output_type": "stream",
     "text": [
      "100%|██████████| 1000/1000 [00:06<00:00, 144.89it/s]\n"
     ]
    },
    {
     "name": "stdout",
     "output_type": "stream",
     "text": [
      "Train Set: Average Batch Loss: 1.485962, Accuracy: 48878/60000 (81%)\n",
      "\n",
      "Val Set: Loss: 0.025349, Accuracy: 8264/10000 (83%)\n",
      "==========================================================================================\n",
      "Train Epoch: 13\n"
     ]
    },
    {
     "name": "stderr",
     "output_type": "stream",
     "text": [
      "100%|██████████| 1000/1000 [00:07<00:00, 142.37it/s]\n"
     ]
    },
    {
     "name": "stdout",
     "output_type": "stream",
     "text": [
      "Train Set: Average Batch Loss: 1.483511, Accuracy: 49013/60000 (82%)\n",
      "\n",
      "Val Set: Loss: 0.025329, Accuracy: 8276/10000 (83%)\n",
      "==========================================================================================\n",
      "Train Epoch: 14\n"
     ]
    },
    {
     "name": "stderr",
     "output_type": "stream",
     "text": [
      "100%|██████████| 1000/1000 [00:07<00:00, 138.37it/s]\n"
     ]
    },
    {
     "name": "stdout",
     "output_type": "stream",
     "text": [
      "Train Set: Average Batch Loss: 1.482187, Accuracy: 49085/60000 (82%)\n",
      "\n",
      "Val Set: Loss: 0.025311, Accuracy: 8288/10000 (83%)\n",
      "==========================================================================================\n",
      "Train Epoch: 15\n"
     ]
    },
    {
     "name": "stderr",
     "output_type": "stream",
     "text": [
      "100%|██████████| 1000/1000 [00:07<00:00, 139.42it/s]\n"
     ]
    },
    {
     "name": "stdout",
     "output_type": "stream",
     "text": [
      "Train Set: Average Batch Loss: 1.480118, Accuracy: 49182/60000 (82%)\n",
      "\n",
      "Val Set: Loss: 0.025404, Accuracy: 8235/10000 (82%)\n",
      "==========================================================================================\n",
      "Train Epoch: 16\n"
     ]
    },
    {
     "name": "stderr",
     "output_type": "stream",
     "text": [
      "100%|██████████| 1000/1000 [00:07<00:00, 135.41it/s]\n"
     ]
    },
    {
     "name": "stdout",
     "output_type": "stream",
     "text": [
      "Train Set: Average Batch Loss: 1.479090, Accuracy: 49219/60000 (82%)\n",
      "\n",
      "Val Set: Loss: 0.025349, Accuracy: 8258/10000 (83%)\n",
      "==========================================================================================\n",
      "Train Epoch: 17\n"
     ]
    },
    {
     "name": "stderr",
     "output_type": "stream",
     "text": [
      "100%|██████████| 1000/1000 [00:07<00:00, 133.18it/s]\n"
     ]
    },
    {
     "name": "stdout",
     "output_type": "stream",
     "text": [
      "Train Set: Average Batch Loss: 1.477633, Accuracy: 49281/60000 (82%)\n",
      "\n",
      "Val Set: Loss: 0.025258, Accuracy: 8310/10000 (83%)\n",
      "==========================================================================================\n",
      "Train Epoch: 18\n"
     ]
    },
    {
     "name": "stderr",
     "output_type": "stream",
     "text": [
      "100%|██████████| 1000/1000 [00:07<00:00, 137.54it/s]\n"
     ]
    },
    {
     "name": "stdout",
     "output_type": "stream",
     "text": [
      "Train Set: Average Batch Loss: 1.476770, Accuracy: 49313/60000 (82%)\n",
      "\n",
      "Val Set: Loss: 0.025262, Accuracy: 8312/10000 (83%)\n",
      "==========================================================================================\n",
      "Train Epoch: 19\n"
     ]
    },
    {
     "name": "stderr",
     "output_type": "stream",
     "text": [
      "100%|██████████| 1000/1000 [00:07<00:00, 135.49it/s]\n"
     ]
    },
    {
     "name": "stdout",
     "output_type": "stream",
     "text": [
      "Train Set: Average Batch Loss: 1.475824, Accuracy: 49359/60000 (82%)\n",
      "\n",
      "Val Set: Loss: 0.025251, Accuracy: 8309/10000 (83%)\n",
      "==========================================================================================\n",
      "Train Epoch: 20\n"
     ]
    },
    {
     "name": "stderr",
     "output_type": "stream",
     "text": [
      "100%|██████████| 1000/1000 [00:08<00:00, 120.77it/s]\n"
     ]
    },
    {
     "name": "stdout",
     "output_type": "stream",
     "text": [
      "Train Set: Average Batch Loss: 1.474603, Accuracy: 49407/60000 (82%)\n",
      "\n",
      "Val Set: Loss: 0.025270, Accuracy: 8305/10000 (83%)\n",
      "==========================================================================================\n",
      "Train Epoch: 21\n"
     ]
    },
    {
     "name": "stderr",
     "output_type": "stream",
     "text": [
      "100%|██████████| 1000/1000 [00:07<00:00, 132.55it/s]\n"
     ]
    },
    {
     "name": "stdout",
     "output_type": "stream",
     "text": [
      "Train Set: Average Batch Loss: 1.474105, Accuracy: 49443/60000 (82%)\n",
      "\n",
      "Val Set: Loss: 0.025232, Accuracy: 8322/10000 (83%)\n",
      "==========================================================================================\n",
      "Train Epoch: 22\n"
     ]
    },
    {
     "name": "stderr",
     "output_type": "stream",
     "text": [
      "100%|██████████| 1000/1000 [00:07<00:00, 135.06it/s]\n"
     ]
    },
    {
     "name": "stdout",
     "output_type": "stream",
     "text": [
      "Train Set: Average Batch Loss: 1.473284, Accuracy: 49474/60000 (82%)\n",
      "\n",
      "Val Set: Loss: 0.025244, Accuracy: 8314/10000 (83%)\n",
      "==========================================================================================\n",
      "Train Epoch: 23\n"
     ]
    },
    {
     "name": "stderr",
     "output_type": "stream",
     "text": [
      "100%|██████████| 1000/1000 [00:07<00:00, 137.22it/s]\n"
     ]
    },
    {
     "name": "stdout",
     "output_type": "stream",
     "text": [
      "Train Set: Average Batch Loss: 1.472770, Accuracy: 49493/60000 (82%)\n",
      "\n",
      "Val Set: Loss: 0.025243, Accuracy: 8307/10000 (83%)\n",
      "==========================================================================================\n",
      "Train Epoch: 24\n"
     ]
    },
    {
     "name": "stderr",
     "output_type": "stream",
     "text": [
      "100%|██████████| 1000/1000 [00:07<00:00, 139.69it/s]\n"
     ]
    },
    {
     "name": "stdout",
     "output_type": "stream",
     "text": [
      "Train Set: Average Batch Loss: 1.471883, Accuracy: 49520/60000 (83%)\n",
      "\n",
      "Val Set: Loss: 0.025229, Accuracy: 8317/10000 (83%)\n",
      "==========================================================================================\n",
      "Train Epoch: 25\n"
     ]
    },
    {
     "name": "stderr",
     "output_type": "stream",
     "text": [
      "100%|██████████| 1000/1000 [00:07<00:00, 139.10it/s]\n"
     ]
    },
    {
     "name": "stdout",
     "output_type": "stream",
     "text": [
      "Train Set: Average Batch Loss: 1.471719, Accuracy: 49533/60000 (83%)\n",
      "\n",
      "Val Set: Loss: 0.025211, Accuracy: 8334/10000 (83%)\n",
      "==========================================================================================\n",
      "Train Epoch: 26\n"
     ]
    },
    {
     "name": "stderr",
     "output_type": "stream",
     "text": [
      "100%|██████████| 1000/1000 [00:07<00:00, 138.58it/s]\n"
     ]
    },
    {
     "name": "stdout",
     "output_type": "stream",
     "text": [
      "Train Set: Average Batch Loss: 1.471147, Accuracy: 49550/60000 (83%)\n",
      "\n",
      "Val Set: Loss: 0.025217, Accuracy: 8319/10000 (83%)\n",
      "==========================================================================================\n",
      "Train Epoch: 27\n"
     ]
    },
    {
     "name": "stderr",
     "output_type": "stream",
     "text": [
      "100%|██████████| 1000/1000 [00:07<00:00, 136.95it/s]\n"
     ]
    },
    {
     "name": "stdout",
     "output_type": "stream",
     "text": [
      "Train Set: Average Batch Loss: 1.470601, Accuracy: 49568/60000 (83%)\n",
      "\n",
      "Val Set: Loss: 0.025208, Accuracy: 8324/10000 (83%)\n",
      "==========================================================================================\n",
      "Train Epoch: 28\n"
     ]
    },
    {
     "name": "stderr",
     "output_type": "stream",
     "text": [
      "100%|██████████| 1000/1000 [00:07<00:00, 137.42it/s]\n"
     ]
    },
    {
     "name": "stdout",
     "output_type": "stream",
     "text": [
      "Train Set: Average Batch Loss: 1.470405, Accuracy: 49577/60000 (83%)\n",
      "\n",
      "Val Set: Loss: 0.025205, Accuracy: 8331/10000 (83%)\n",
      "==========================================================================================\n",
      "Train Epoch: 29\n"
     ]
    },
    {
     "name": "stderr",
     "output_type": "stream",
     "text": [
      "100%|██████████| 1000/1000 [00:07<00:00, 141.78it/s]\n"
     ]
    },
    {
     "name": "stdout",
     "output_type": "stream",
     "text": [
      "Train Set: Average Batch Loss: 1.470194, Accuracy: 49583/60000 (83%)\n",
      "\n",
      "Val Set: Loss: 0.025198, Accuracy: 8324/10000 (83%)\n",
      "==========================================================================================\n",
      "Train Epoch: 30\n"
     ]
    },
    {
     "name": "stderr",
     "output_type": "stream",
     "text": [
      "100%|██████████| 1000/1000 [00:07<00:00, 137.35it/s]\n"
     ]
    },
    {
     "name": "stdout",
     "output_type": "stream",
     "text": [
      "Train Set: Average Batch Loss: 1.469862, Accuracy: 49596/60000 (83%)\n",
      "\n",
      "Val Set: Loss: 0.025197, Accuracy: 8334/10000 (83%)\n",
      "==========================================================================================\n",
      "Train Epoch: 31\n"
     ]
    },
    {
     "name": "stderr",
     "output_type": "stream",
     "text": [
      "100%|██████████| 1000/1000 [00:07<00:00, 139.12it/s]\n"
     ]
    },
    {
     "name": "stdout",
     "output_type": "stream",
     "text": [
      "Train Set: Average Batch Loss: 1.469652, Accuracy: 49604/60000 (83%)\n",
      "\n",
      "Val Set: Loss: 0.025197, Accuracy: 8335/10000 (83%)\n",
      "==========================================================================================\n",
      "Train Epoch: 32\n"
     ]
    },
    {
     "name": "stderr",
     "output_type": "stream",
     "text": [
      "100%|██████████| 1000/1000 [00:07<00:00, 138.29it/s]\n"
     ]
    },
    {
     "name": "stdout",
     "output_type": "stream",
     "text": [
      "Train Set: Average Batch Loss: 1.469417, Accuracy: 49614/60000 (83%)\n",
      "\n",
      "Val Set: Loss: 0.025215, Accuracy: 8316/10000 (83%)\n",
      "==========================================================================================\n",
      "Train Epoch: 33\n"
     ]
    },
    {
     "name": "stderr",
     "output_type": "stream",
     "text": [
      "100%|██████████| 1000/1000 [00:07<00:00, 135.17it/s]\n"
     ]
    },
    {
     "name": "stdout",
     "output_type": "stream",
     "text": [
      "Train Set: Average Batch Loss: 1.469523, Accuracy: 49611/60000 (83%)\n",
      "\n",
      "Val Set: Loss: 0.025214, Accuracy: 8322/10000 (83%)\n",
      "==========================================================================================\n",
      "Train Epoch: 34\n"
     ]
    },
    {
     "name": "stderr",
     "output_type": "stream",
     "text": [
      "100%|██████████| 1000/1000 [00:07<00:00, 139.14it/s]\n"
     ]
    },
    {
     "name": "stdout",
     "output_type": "stream",
     "text": [
      "Train Set: Average Batch Loss: 1.469347, Accuracy: 49624/60000 (83%)\n",
      "\n",
      "Val Set: Loss: 0.025200, Accuracy: 8335/10000 (83%)\n",
      "==========================================================================================\n",
      "Train Epoch: 35\n"
     ]
    },
    {
     "name": "stderr",
     "output_type": "stream",
     "text": [
      "100%|██████████| 1000/1000 [00:07<00:00, 140.25it/s]\n"
     ]
    },
    {
     "name": "stdout",
     "output_type": "stream",
     "text": [
      "Train Set: Average Batch Loss: 1.468867, Accuracy: 49643/60000 (83%)\n",
      "\n",
      "Val Set: Loss: 0.025201, Accuracy: 8318/10000 (83%)\n",
      "==========================================================================================\n",
      "Train Epoch: 36\n"
     ]
    },
    {
     "name": "stderr",
     "output_type": "stream",
     "text": [
      "100%|██████████| 1000/1000 [00:07<00:00, 132.11it/s]\n"
     ]
    },
    {
     "name": "stdout",
     "output_type": "stream",
     "text": [
      "Train Set: Average Batch Loss: 1.468756, Accuracy: 49645/60000 (83%)\n",
      "\n",
      "Val Set: Loss: 0.025205, Accuracy: 8330/10000 (83%)\n",
      "==========================================================================================\n",
      "Train Epoch: 37\n"
     ]
    },
    {
     "name": "stderr",
     "output_type": "stream",
     "text": [
      "100%|██████████| 1000/1000 [00:07<00:00, 130.55it/s]\n"
     ]
    },
    {
     "name": "stdout",
     "output_type": "stream",
     "text": [
      "Train Set: Average Batch Loss: 1.468680, Accuracy: 49653/60000 (83%)\n",
      "\n",
      "Val Set: Loss: 0.025204, Accuracy: 8328/10000 (83%)\n",
      "==========================================================================================\n",
      "Train Epoch: 38\n"
     ]
    },
    {
     "name": "stderr",
     "output_type": "stream",
     "text": [
      "100%|██████████| 1000/1000 [00:07<00:00, 139.02it/s]\n"
     ]
    },
    {
     "name": "stdout",
     "output_type": "stream",
     "text": [
      "Train Set: Average Batch Loss: 1.468486, Accuracy: 49667/60000 (83%)\n",
      "\n",
      "Val Set: Loss: 0.025190, Accuracy: 8342/10000 (83%)\n",
      "==========================================================================================\n",
      "Train Epoch: 39\n"
     ]
    },
    {
     "name": "stderr",
     "output_type": "stream",
     "text": [
      "100%|██████████| 1000/1000 [00:07<00:00, 134.55it/s]\n"
     ]
    },
    {
     "name": "stdout",
     "output_type": "stream",
     "text": [
      "Train Set: Average Batch Loss: 1.468255, Accuracy: 49678/60000 (83%)\n",
      "\n",
      "Val Set: Loss: 0.025197, Accuracy: 8328/10000 (83%)\n",
      "==========================================================================================\n",
      "Train Epoch: 40\n"
     ]
    },
    {
     "name": "stderr",
     "output_type": "stream",
     "text": [
      "100%|██████████| 1000/1000 [00:07<00:00, 133.29it/s]\n"
     ]
    },
    {
     "name": "stdout",
     "output_type": "stream",
     "text": [
      "Train Set: Average Batch Loss: 1.468028, Accuracy: 49681/60000 (83%)\n",
      "\n",
      "Val Set: Loss: 0.025178, Accuracy: 8342/10000 (83%)\n",
      "==========================================================================================\n",
      "Train Epoch: 41\n"
     ]
    },
    {
     "name": "stderr",
     "output_type": "stream",
     "text": [
      "100%|██████████| 1000/1000 [00:07<00:00, 136.30it/s]\n"
     ]
    },
    {
     "name": "stdout",
     "output_type": "stream",
     "text": [
      "Train Set: Average Batch Loss: 1.467696, Accuracy: 49687/60000 (83%)\n",
      "\n",
      "Val Set: Loss: 0.025191, Accuracy: 8333/10000 (83%)\n",
      "==========================================================================================\n",
      "Train Epoch: 42\n"
     ]
    },
    {
     "name": "stderr",
     "output_type": "stream",
     "text": [
      "100%|██████████| 1000/1000 [00:07<00:00, 133.24it/s]\n"
     ]
    },
    {
     "name": "stdout",
     "output_type": "stream",
     "text": [
      "Train Set: Average Batch Loss: 1.467498, Accuracy: 49695/60000 (83%)\n",
      "\n",
      "Val Set: Loss: 0.025173, Accuracy: 8343/10000 (83%)\n",
      "==========================================================================================\n",
      "Train Epoch: 43\n"
     ]
    },
    {
     "name": "stderr",
     "output_type": "stream",
     "text": [
      "100%|██████████| 1000/1000 [00:07<00:00, 133.19it/s]\n"
     ]
    },
    {
     "name": "stdout",
     "output_type": "stream",
     "text": [
      "Train Set: Average Batch Loss: 1.467472, Accuracy: 49698/60000 (83%)\n",
      "\n",
      "Val Set: Loss: 0.025171, Accuracy: 8349/10000 (83%)\n",
      "==========================================================================================\n",
      "Train Epoch: 44\n"
     ]
    },
    {
     "name": "stderr",
     "output_type": "stream",
     "text": [
      "100%|██████████| 1000/1000 [00:07<00:00, 135.62it/s]\n"
     ]
    },
    {
     "name": "stdout",
     "output_type": "stream",
     "text": [
      "Train Set: Average Batch Loss: 1.467336, Accuracy: 49705/60000 (83%)\n",
      "\n",
      "Val Set: Loss: 0.025176, Accuracy: 8346/10000 (83%)\n",
      "==========================================================================================\n",
      "Train Epoch: 45\n"
     ]
    },
    {
     "name": "stderr",
     "output_type": "stream",
     "text": [
      "100%|██████████| 1000/1000 [00:07<00:00, 136.80it/s]\n"
     ]
    },
    {
     "name": "stdout",
     "output_type": "stream",
     "text": [
      "Train Set: Average Batch Loss: 1.467175, Accuracy: 49709/60000 (83%)\n",
      "\n",
      "Val Set: Loss: 0.025174, Accuracy: 8343/10000 (83%)\n",
      "==========================================================================================\n",
      "Train Epoch: 46\n"
     ]
    },
    {
     "name": "stderr",
     "output_type": "stream",
     "text": [
      "100%|██████████| 1000/1000 [00:07<00:00, 131.24it/s]\n"
     ]
    },
    {
     "name": "stdout",
     "output_type": "stream",
     "text": [
      "Train Set: Average Batch Loss: 1.467248, Accuracy: 49710/60000 (83%)\n",
      "\n",
      "Val Set: Loss: 0.025186, Accuracy: 8340/10000 (83%)\n",
      "==========================================================================================\n",
      "Train Epoch: 47\n"
     ]
    },
    {
     "name": "stderr",
     "output_type": "stream",
     "text": [
      "100%|██████████| 1000/1000 [00:07<00:00, 137.18it/s]\n"
     ]
    },
    {
     "name": "stdout",
     "output_type": "stream",
     "text": [
      "Train Set: Average Batch Loss: 1.467082, Accuracy: 49716/60000 (83%)\n",
      "\n",
      "Val Set: Loss: 0.025171, Accuracy: 8347/10000 (83%)\n",
      "==========================================================================================\n",
      "Train Epoch: 48\n"
     ]
    },
    {
     "name": "stderr",
     "output_type": "stream",
     "text": [
      "100%|██████████| 1000/1000 [00:07<00:00, 130.88it/s]\n"
     ]
    },
    {
     "name": "stdout",
     "output_type": "stream",
     "text": [
      "Train Set: Average Batch Loss: 1.466955, Accuracy: 49721/60000 (83%)\n",
      "\n",
      "Val Set: Loss: 0.025177, Accuracy: 8342/10000 (83%)\n",
      "==========================================================================================\n",
      "Train Epoch: 49\n"
     ]
    },
    {
     "name": "stderr",
     "output_type": "stream",
     "text": [
      "100%|██████████| 1000/1000 [00:07<00:00, 127.40it/s]\n"
     ]
    },
    {
     "name": "stdout",
     "output_type": "stream",
     "text": [
      "Train Set: Average Batch Loss: 1.466884, Accuracy: 49723/60000 (83%)\n",
      "\n",
      "Val Set: Loss: 0.025164, Accuracy: 8352/10000 (84%)\n",
      "==========================================================================================\n",
      "Train Epoch: 50\n"
     ]
    },
    {
     "name": "stderr",
     "output_type": "stream",
     "text": [
      "100%|██████████| 1000/1000 [00:07<00:00, 138.68it/s]\n"
     ]
    },
    {
     "name": "stdout",
     "output_type": "stream",
     "text": [
      "Train Set: Average Batch Loss: 1.466825, Accuracy: 49727/60000 (83%)\n",
      "\n",
      "Val Set: Loss: 0.025168, Accuracy: 8346/10000 (83%)\n",
      "\n",
      "Time to Train: 0:6:45 seconds\n"
     ]
    }
   ],
   "source": [
    "train_start_time = time.time()\n",
    "for epoch in range(0, epochs):\n",
    "     print('==='*30)\n",
    "     train(epoch=epoch, dataloader=train_loader, optimizer=optimizer)\n",
    "     validation(epoch=epoch, dataloader=test_loader)\n",
    "train_end_time = time.time()\n",
    "\n",
    "train_duration = train_end_time - train_start_time\n",
    "hours, remainder = divmod(train_duration, 3600)\n",
    "minutes, seconds = divmod(remainder, 60)\n",
    "print(f'\\nTime to Train: {int(hours)}:{int(minutes)}:{int(seconds)} seconds')\n"
   ]
  },
  {
   "cell_type": "markdown",
   "metadata": {},
   "source": [
    "### Test Model"
   ]
  },
  {
   "cell_type": "code",
   "execution_count": 51,
   "metadata": {},
   "outputs": [
    {
     "name": "stdout",
     "output_type": "stream",
     "text": [
      "\n",
      "Test Set: Loss: 0.025168, Accuracy: 8346/10000 (83%)\n"
     ]
    }
   ],
   "source": [
    "y_pred, y_true = test(test_loader)"
   ]
  },
  {
   "cell_type": "markdown",
   "metadata": {},
   "source": [
    "### Plot Results"
   ]
  },
  {
   "cell_type": "code",
   "execution_count": 52,
   "metadata": {},
   "outputs": [
    {
     "data": {
      "text/plain": [
       "Text(0.5, 1.0, 'Loss Per Epoch')"
      ]
     },
     "execution_count": 52,
     "metadata": {},
     "output_type": "execute_result"
    },
    {
     "data": {
      "image/png": "[encoded data removed]",
      "text/plain": [
       "<Figure size 640x480 with 1 Axes>"
      ]
     },
     "metadata": {},
     "output_type": "display_data"
    }
   ],
   "source": [
    "fig = plt.figure()\n",
    "plt.plot(train_loss_epoch, color='blue')\n",
    "plt.plot(val_loss_epoch, color='red')\n",
    "plt.legend(['Train Loss', 'Validation Loss'], loc='upper right')\n",
    "plt.xlabel('Epochs')\n",
    "plt.ylabel('Loss')\n",
    "plt.title('Loss Per Epoch')"
   ]
  },
  {
   "cell_type": "code",
   "execution_count": 53,
   "metadata": {},
   "outputs": [
    {
     "data": {
      "text/plain": [
       "Text(0.5, 1.0, 'Accuracy Per Epoch')"
      ]
     },
     "execution_count": 53,
     "metadata": {},
     "output_type": "execute_result"
    },
    {
     "data": {
      "image/png": "[encoded data removed]",
      "text/plain": [
       "<Figure size 640x480 with 1 Axes>"
      ]
     },
     "metadata": {},
     "output_type": "display_data"
    }
   ],
   "source": [
    "fig = plt.figure()\n",
    "plt.plot(train_acc_epoch, color='blue')\n",
    "plt.plot(val_acc_epoch, color='red')\n",
    "plt.legend(['Train Accuracy', 'Validation Accuracy'], loc='upper right')\n",
    "plt.xlabel('Epochs')\n",
    "plt.ylabel('Accuracy')\n",
    "plt.title('Accuracy Per Epoch')"
   ]
  },
  {
   "cell_type": "code",
   "execution_count": 54,
   "metadata": {},
   "outputs": [
    {
     "data": {
      "image/png": "[encoded data removed]",
      "text/plain": [
       "<Figure size 640x480 with 6 Axes>"
      ]
     },
     "metadata": {},
     "output_type": "display_data"
    }
   ],
   "source": [
    "with torch.no_grad():\n",
    "  if torch.cuda.is_available():\n",
    "    model = model.to(torch.device('cpu'))\n",
    "  output = model(example_data)\n",
    "\n",
    "fig = plt.figure()\n",
    "for i in range(6):\n",
    "  plt.subplot(2,3,i+1)\n",
    "  plt.tight_layout()\n",
    "  plt.imshow(example_data[i][0], cmap='gray', interpolation='none')\n",
    "  plt.title(\"Prediction: {}\".format(\n",
    "    output.data.max(1, keepdim=True)[1][i].item()))\n",
    "  plt.xticks([])\n",
    "  plt.yticks([])"
   ]
  },
  {
   "cell_type": "markdown",
   "metadata": {},
   "source": [
    "### Confusion Matrix"
   ]
  },
  {
   "cell_type": "code",
   "execution_count": 55,
   "metadata": {},
   "outputs": [
    {
     "data": {
      "image/png": "[encoded data removed]",
      "text/plain": [
       "<Figure size 1000x700 with 2 Axes>"
      ]
     },
     "metadata": {},
     "output_type": "display_data"
    }
   ],
   "source": [
    "from utils import confusion_matrix\n",
    "\n",
    "confusion_matrix(y_true, y_pred, num_classes=10, num_samples=len(y_true), class_names=[str(i) for i in range(10)])"
   ]
  }
 ],
 "metadata": {
  "kernelspec": {
   "display_name": "Python 3",
   "language": "python",
   "name": "python3"
  },
  "language_info": {
   "codemirror_mode": {
    "name": "ipython",
    "version": 3
   },
   "file_extension": ".py",
   "mimetype": "text/x-python",
   "name": "python",
   "nbconvert_exporter": "python",
   "pygments_lexer": "ipython3",
   "version": "3.1.0"
  }
 },
 "nbformat": 4,
 "nbformat_minor": 2
}
