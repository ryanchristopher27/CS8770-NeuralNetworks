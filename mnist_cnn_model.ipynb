{
 "cells": [
  {
   "cell_type": "code",
   "execution_count": 43,
   "metadata": {},
   "outputs": [],
   "source": [
    "%matplotlib inline"
   ]
  },
  {
   "cell_type": "markdown",
   "metadata": {},
   "source": [
    "### Install Python Packages"
   ]
  },
  {
   "cell_type": "code",
   "execution_count": 44,
   "metadata": {},
   "outputs": [],
   "source": [
    "# include our Python packages\n",
    "import torch\n",
    "import torch.nn as nn\n",
    "import torch.nn.functional as F\n",
    "from torch.autograd import Variable\n",
    "from torch.autograd import Function\n",
    "import torch.optim as optim\n",
    "import numpy as np\n",
    "import matplotlib\n",
    "import matplotlib.pyplot as plt\n",
    "import torchvision.transforms as transforms\n",
    "from torchvision.datasets import MNIST\n",
    "from torch.utils.data import DataLoader\n",
    "from tqdm import tqdm"
   ]
  },
  {
   "cell_type": "code",
   "execution_count": 45,
   "metadata": {},
   "outputs": [
    {
     "data": {
      "text/plain": [
       "True"
      ]
     },
     "execution_count": 45,
     "metadata": {},
     "output_type": "execute_result"
    }
   ],
   "source": [
    "torch.cuda.is_available()"
   ]
  },
  {
   "cell_type": "markdown",
   "metadata": {},
   "source": [
    "### GPU Setup"
   ]
  },
  {
   "cell_type": "code",
   "execution_count": 46,
   "metadata": {},
   "outputs": [
    {
     "name": "stdout",
     "output_type": "stream",
     "text": [
      "0\n",
      "NVIDIA GeForce RTX 3060 Ti\n",
      "<torch.cuda.device object at 0x000002B9CD12CB50>\n",
      "1\n",
      "cuda\n"
     ]
    }
   ],
   "source": [
    "if torch.cuda.is_available():\n",
    "    print(torch.cuda.current_device())     # The ID of the current GPU.\n",
    "    print(torch.cuda.get_device_name(id))  # The name of the specified GPU, where id is an integer.\n",
    "    print(torch.cuda.device(id))           # The memory address of the specified GPU, where id is an integer.\n",
    "    print(torch.cuda.device_count())\n",
    "    \n",
    "on_gpu = torch.cuda.is_available()\n",
    "\n",
    "device = torch.device(\"cuda\" if torch.cuda.is_available() else \"cpu\")\n",
    "print(device)"
   ]
  },
  {
   "cell_type": "markdown",
   "metadata": {},
   "source": [
    "### Get MNIST Dataset and DataLoader"
   ]
  },
  {
   "cell_type": "code",
   "execution_count": 47,
   "metadata": {},
   "outputs": [],
   "source": [
    "transform = transforms.Compose([\n",
    "    transforms.ToTensor(),\n",
    "    transforms.Normalize((0.5,), (0.5,)),\n",
    "])\n",
    "\n",
    "train_dataset = MNIST(root='./data', train=True, transform=transform, download=True)\n",
    "train_loader = DataLoader(dataset=train_dataset, batch_size=50, shuffle=True)\n",
    "\n",
    "test_dataset = MNIST(root='./data', train=False, transform=transform, download=True)\n",
    "test_loader = DataLoader(dataset=test_dataset, batch_size=50, shuffle=True)"
   ]
  },
  {
   "cell_type": "markdown",
   "metadata": {},
   "source": [
    "#### View Images"
   ]
  },
  {
   "cell_type": "code",
   "execution_count": 48,
   "metadata": {},
   "outputs": [
    {
     "data": {
      "image/png": "[encoded data removed]",
      "text/plain": [
       "<Figure size 640x480 with 6 Axes>"
      ]
     },
     "metadata": {},
     "output_type": "display_data"
    }
   ],
   "source": [
    "examples = enumerate(test_loader)\n",
    "batch_idx, (example_data, example_targets) = next(examples)\n",
    "\n",
    "fig = plt.figure()\n",
    "for i in range(6):\n",
    "  plt.subplot(2,3,i+1)\n",
    "  plt.tight_layout()\n",
    "  plt.imshow(example_data[i][0], cmap='gray', interpolation='none')\n",
    "  plt.title(\"Ground Truth: {}\".format(example_targets[i]))\n",
    "  plt.xticks([])\n",
    "  plt.yticks([])"
   ]
  },
  {
   "cell_type": "markdown",
   "metadata": {},
   "source": [
    "### Create Convolutional Nerual Net"
   ]
  },
  {
   "cell_type": "code",
   "execution_count": 49,
   "metadata": {},
   "outputs": [],
   "source": [
    "# class CNN(nn.Module):\n",
    "#     def __init__(self):\n",
    "#         super(CNN, self).__init__()\n",
    "#         self.conv1 = nn.Conv2d(1, 10, kernel_size=5)\n",
    "#         self.conv2 = nn.Conv2d(10, 20, kernel_size=5)\n",
    "#         self.conv3 = nn.Conv2d(20, 40, kernel_size=5)\n",
    "#         self.conv2_drop = nn.Dropout2d()\n",
    "#         self.conv3_drop = nn.Dropout2d()\n",
    "#         self.fc1 = nn.Linear(160, 128)\n",
    "#         self.fc2 = nn.Linear(128, 64)\n",
    "#         self.fc3 = nn.Linear(64, 10)\n",
    "\n",
    "#     def forward(self, x):\n",
    "#         x = F.relu(F.max_pool2d(self.conv1(x), 2))\n",
    "#         x = F.relu(F.max_pool2d(self.conv2_drop(self.conv2(x)), 2))\n",
    "#         x = F.relu(self.conv3_drop(self.conv3(x)), 2)\n",
    "#         x = x.view(-1, 160)\n",
    "#         x = F.relu(self.fc1(x))\n",
    "#         x = F.dropout(x, training=self.training)\n",
    "#         x = F.relu(self.fc2(x))\n",
    "#         x = F.log_softmax(self.fc3(x))           \n",
    "#         return x\n",
    "    \n",
    "class CNN(nn.Module):\n",
    "    def __init__(self):\n",
    "        super(CNN, self).__init__()\n",
    "        self.layers = nn.Sequential(\n",
    "            nn.Conv2d(1, 10, kernel_size = 5, padding = 2),\n",
    "            nn.MaxPool2d(2),\n",
    "            nn.ReLU(),\n",
    "            nn.Conv2d(10, 20, kernel_size = 5, padding = 2),\n",
    "            nn.Dropout2d(),\n",
    "            nn.MaxPool2d(2),\n",
    "            nn.ReLU(),\n",
    "            nn.Conv2d(20, 40, kernel_size = 5, padding = 2),\n",
    "            nn.Dropout2d(),\n",
    "            nn.ReLU(),\n",
    "            nn.Flatten(),\n",
    "            nn.Linear(40 * 7 * 7, 128),\n",
    "            nn.ReLU(),\n",
    "            nn.Dropout(),\n",
    "            nn.Linear(128, 64),\n",
    "            nn.ReLU(),\n",
    "            nn.Linear(64, 10),\n",
    "            nn.LogSoftmax(),\n",
    "        )\n",
    "\n",
    "    def forward(self, x):\n",
    "        y_pred = self.layers(x)\n",
    "        return y_pred"
   ]
  },
  {
   "cell_type": "markdown",
   "metadata": {},
   "source": [
    "### Select Model and Define HyperParameters"
   ]
  },
  {
   "cell_type": "code",
   "execution_count": 50,
   "metadata": {},
   "outputs": [
    {
     "name": "stdout",
     "output_type": "stream",
     "text": [
      "CNN(\n",
      "  (layers): Sequential(\n",
      "    (0): Conv2d(1, 10, kernel_size=(5, 5), stride=(1, 1), padding=(2, 2))\n",
      "    (1): MaxPool2d(kernel_size=2, stride=2, padding=0, dilation=1, ceil_mode=False)\n",
      "    (2): ReLU()\n",
      "    (3): Conv2d(10, 20, kernel_size=(5, 5), stride=(1, 1), padding=(2, 2))\n",
      "    (4): Dropout2d(p=0.5, inplace=False)\n",
      "    (5): MaxPool2d(kernel_size=2, stride=2, padding=0, dilation=1, ceil_mode=False)\n",
      "    (6): ReLU()\n",
      "    (7): Conv2d(20, 40, kernel_size=(5, 5), stride=(1, 1), padding=(2, 2))\n",
      "    (8): Dropout2d(p=0.5, inplace=False)\n",
      "    (9): ReLU()\n",
      "    (10): Flatten(start_dim=1, end_dim=-1)\n",
      "    (11): Linear(in_features=1960, out_features=128, bias=True)\n",
      "    (12): ReLU()\n",
      "    (13): Dropout(p=0.5, inplace=False)\n",
      "    (14): Linear(in_features=128, out_features=64, bias=True)\n",
      "    (15): ReLU()\n",
      "    (16): Linear(in_features=64, out_features=10, bias=True)\n",
      "    (17): LogSoftmax(dim=None)\n",
      "  )\n",
      ")\n"
     ]
    }
   ],
   "source": [
    "model = CNN()\n",
    "\n",
    "print(model)\n",
    "\n",
    "epochs = 50\n",
    "learning_rate = 0.01\n",
    "momentum = 0.1\n",
    "\n",
    "optimizer = optim.SGD(model.parameters(), lr=learning_rate, momentum=momentum)\n",
    "# optimizer = optim.Adam(model.parameters(), lr=learning_rate)\n",
    "\n",
    "criterion = nn.CrossEntropyLoss()\n",
    "\n",
    "status_interval = 10"
   ]
  },
  {
   "cell_type": "markdown",
   "metadata": {},
   "source": [
    "### Move Model and Data to GPU"
   ]
  },
  {
   "cell_type": "code",
   "execution_count": 51,
   "metadata": {},
   "outputs": [
    {
     "name": "stdout",
     "output_type": "stream",
     "text": [
      "Moving to Device\n"
     ]
    }
   ],
   "source": [
    "if torch.cuda.is_available():\n",
    "    print(\"Moving to Device\")\n",
    "    model.to(device)"
   ]
  },
  {
   "cell_type": "markdown",
   "metadata": {},
   "source": [
    "### Define Training Function"
   ]
  },
  {
   "cell_type": "code",
   "execution_count": 52,
   "metadata": {},
   "outputs": [],
   "source": [
    "train_loss_epoch = np.zeros(epochs)\n",
    "val_loss_epoch = np.zeros(epochs)\n",
    "\n",
    "train_acc_epoch = np.zeros(epochs)\n",
    "val_acc_epoch = np.zeros(epochs)\n",
    "\n",
    "train_correct_epoch = np.zeros(epochs)\n",
    "val_correct_epoch = np.zeros(epochs)\n",
    "\n",
    "def train(epoch, dataloader, optimizer):\n",
    "    model.train()\n",
    "\n",
    "    batch_count = len(dataloader)\n",
    "\n",
    "    loss_accumulator = 0\n",
    "    correct_accumulator = 0\n",
    "\n",
    "    print(f'Train Epoch: {epoch+1}')\n",
    "\n",
    "    for batch, (data, label) in tqdm(enumerate(dataloader), total=batch_count):\n",
    "        if on_gpu:\n",
    "            data, label = data.to(device), label.to(device)\n",
    "        optimizer.zero_grad()\n",
    "        output = model(data)\n",
    "\n",
    "        loss = criterion(output, label)\n",
    "        loss.backward()\n",
    "\n",
    "        optimizer.step()\n",
    "\n",
    "        loss_accumulator += loss.item()\n",
    "\n",
    "        pred = output.data.max(1, keepdim=True)[1]\n",
    "        correct_accumulator += pred.eq(label.data.view_as(pred)).sum()\n",
    "\n",
    "\n",
    "    train_loss_epoch[epoch] = loss_accumulator / batch_count\n",
    "    train_acc_epoch[epoch] = correct_accumulator / len(dataloader.dataset)\n",
    "    train_correct_epoch[epoch] = correct_accumulator\n",
    "\n",
    "    print(f'Train Set: Average Batch Loss: {loss_accumulator/batch_count:.6f}, Accuracy: {correct_accumulator}/{len(dataloader.dataset)} ({100 * correct_accumulator / len(dataloader.dataset):.0f}%)')"
   ]
  },
  {
   "cell_type": "markdown",
   "metadata": {},
   "source": [
    "### Define Validation Function"
   ]
  },
  {
   "cell_type": "code",
   "execution_count": 53,
   "metadata": {},
   "outputs": [],
   "source": [
    "def validation(epoch, dataloader):\n",
    "    model.eval()\n",
    "    loss_accumulator = 0\n",
    "    correct_accumulator = 0\n",
    "    with torch.no_grad():\n",
    "        for data, label in dataloader:\n",
    "            if on_gpu:\n",
    "                data, label = data.to(device), label.to(device)\n",
    "            output = model(data)\n",
    "\n",
    "            loss_accumulator += criterion(output, label)\n",
    "            # loss += F.nll_loss(output, label, size_average=False).item()\n",
    "\n",
    "            pred = output.data.max(1, keepdim=True)[1]\n",
    "            correct_accumulator += pred.eq(label.data.view_as(pred)).sum()\n",
    "\n",
    "    val_loss_epoch[epoch] = loss_accumulator / len(dataloader)\n",
    "    val_acc_epoch[epoch] = correct_accumulator / len(dataloader.dataset)\n",
    "    val_correct_epoch[epoch] = correct_accumulator\n",
    "\n",
    "    print(f'\\nVal Set: Loss: {loss_accumulator/len(dataloader.dataset):.6f}, Accuracy: {correct_accumulator}/{len(dataloader.dataset)} ({100 * correct_accumulator / len(dataloader.dataset):.0f}%)')"
   ]
  },
  {
   "cell_type": "markdown",
   "metadata": {},
   "source": [
    "### Define Testing Function"
   ]
  },
  {
   "cell_type": "code",
   "execution_count": 54,
   "metadata": {},
   "outputs": [],
   "source": [
    "def test(dataloader):\n",
    "    model.eval()\n",
    "    loss_accumulator = 0\n",
    "    correct_accumulator = 0\n",
    "    with torch.no_grad():\n",
    "        for data, label in dataloader:\n",
    "            if on_gpu:\n",
    "                data, label = data.to(device), label.to(device)\n",
    "            output = model(data)\n",
    "\n",
    "            loss_accumulator += criterion(output, label)\n",
    "            # loss += F.nll_loss(output, label, size_average=False).item()\n",
    "\n",
    "            pred = output.data.max(1, keepdim=True)[1]\n",
    "            correct_accumulator += pred.eq(label.data.view_as(pred)).sum()\n",
    "\n",
    "    test_loss = loss_accumulator/len(dataloader.dataset)\n",
    "    test_accuracy = correct_accumulator/len(dataloader.dataset)\n",
    "    test_correct = correct_accumulator\n",
    "\n",
    "    print(f'\\nTest Set: Loss: {test_loss:.6f}, Accuracy: {test_correct}/{len(dataloader.dataset)} ({100 * test_accuracy:.0f}%)')"
   ]
  },
  {
   "cell_type": "markdown",
   "metadata": {},
   "source": [
    "### Train Model"
   ]
  },
  {
   "cell_type": "code",
   "execution_count": 55,
   "metadata": {},
   "outputs": [
    {
     "name": "stdout",
     "output_type": "stream",
     "text": [
      "==========================================================================================\n",
      "Train Epoch: 1\n"
     ]
    },
    {
     "name": "stderr",
     "output_type": "stream",
     "text": [
      "100%|██████████| 1200/1200 [00:07<00:00, 163.30it/s]\n"
     ]
    },
    {
     "name": "stdout",
     "output_type": "stream",
     "text": [
      "Train Set: Average Batch Loss: 2.292504, Accuracy: 8649/60000 (14%)\n",
      "\n",
      "Val Set: Loss: 0.044507, Accuracy: 5219/10000 (52%)\n",
      "==========================================================================================\n",
      "Train Epoch: 2\n"
     ]
    },
    {
     "name": "stderr",
     "output_type": "stream",
     "text": [
      "100%|██████████| 1200/1200 [00:07<00:00, 168.30it/s]\n"
     ]
    },
    {
     "name": "stdout",
     "output_type": "stream",
     "text": [
      "Train Set: Average Batch Loss: 1.064664, Accuracy: 39769/60000 (66%)\n",
      "\n",
      "Val Set: Loss: 0.005370, Accuracy: 9204/10000 (92%)\n",
      "==========================================================================================\n",
      "Train Epoch: 3\n"
     ]
    },
    {
     "name": "stderr",
     "output_type": "stream",
     "text": [
      "100%|██████████| 1200/1200 [00:07<00:00, 169.51it/s]\n"
     ]
    },
    {
     "name": "stdout",
     "output_type": "stream",
     "text": [
      "Train Set: Average Batch Loss: 0.365002, Accuracy: 53572/60000 (89%)\n",
      "\n",
      "Val Set: Loss: 0.002991, Accuracy: 9517/10000 (95%)\n",
      "==========================================================================================\n",
      "Train Epoch: 4\n"
     ]
    },
    {
     "name": "stderr",
     "output_type": "stream",
     "text": [
      "100%|██████████| 1200/1200 [00:07<00:00, 168.28it/s]\n"
     ]
    },
    {
     "name": "stdout",
     "output_type": "stream",
     "text": [
      "Train Set: Average Batch Loss: 0.264417, Accuracy: 55521/60000 (93%)\n",
      "\n",
      "Val Set: Loss: 0.002204, Accuracy: 9635/10000 (96%)\n",
      "==========================================================================================\n",
      "Train Epoch: 5\n"
     ]
    },
    {
     "name": "stderr",
     "output_type": "stream",
     "text": [
      "100%|██████████| 1200/1200 [00:07<00:00, 167.28it/s]\n"
     ]
    },
    {
     "name": "stdout",
     "output_type": "stream",
     "text": [
      "Train Set: Average Batch Loss: 0.218866, Accuracy: 56250/60000 (94%)\n",
      "\n",
      "Val Set: Loss: 0.001847, Accuracy: 9691/10000 (97%)\n",
      "==========================================================================================\n",
      "Train Epoch: 6\n"
     ]
    },
    {
     "name": "stderr",
     "output_type": "stream",
     "text": [
      "100%|██████████| 1200/1200 [00:07<00:00, 165.64it/s]\n"
     ]
    },
    {
     "name": "stdout",
     "output_type": "stream",
     "text": [
      "Train Set: Average Batch Loss: 0.187955, Accuracy: 56763/60000 (95%)\n",
      "\n",
      "Val Set: Loss: 0.001601, Accuracy: 9745/10000 (97%)\n",
      "==========================================================================================\n",
      "Train Epoch: 7\n"
     ]
    },
    {
     "name": "stderr",
     "output_type": "stream",
     "text": [
      "100%|██████████| 1200/1200 [00:07<00:00, 167.34it/s]\n"
     ]
    },
    {
     "name": "stdout",
     "output_type": "stream",
     "text": [
      "Train Set: Average Batch Loss: 0.170247, Accuracy: 57102/60000 (95%)\n",
      "\n",
      "Val Set: Loss: 0.001387, Accuracy: 9780/10000 (98%)\n",
      "==========================================================================================\n",
      "Train Epoch: 8\n"
     ]
    },
    {
     "name": "stderr",
     "output_type": "stream",
     "text": [
      "100%|██████████| 1200/1200 [00:07<00:00, 166.42it/s]\n"
     ]
    },
    {
     "name": "stdout",
     "output_type": "stream",
     "text": [
      "Train Set: Average Batch Loss: 0.151394, Accuracy: 57423/60000 (96%)\n",
      "\n",
      "Val Set: Loss: 0.001251, Accuracy: 9797/10000 (98%)\n",
      "==========================================================================================\n",
      "Train Epoch: 9\n"
     ]
    },
    {
     "name": "stderr",
     "output_type": "stream",
     "text": [
      "100%|██████████| 1200/1200 [00:07<00:00, 169.68it/s]\n"
     ]
    },
    {
     "name": "stdout",
     "output_type": "stream",
     "text": [
      "Train Set: Average Batch Loss: 0.141549, Accuracy: 57598/60000 (96%)\n",
      "\n",
      "Val Set: Loss: 0.001144, Accuracy: 9805/10000 (98%)\n",
      "==========================================================================================\n",
      "Train Epoch: 10\n"
     ]
    },
    {
     "name": "stderr",
     "output_type": "stream",
     "text": [
      "100%|██████████| 1200/1200 [00:07<00:00, 170.41it/s]\n"
     ]
    },
    {
     "name": "stdout",
     "output_type": "stream",
     "text": [
      "Train Set: Average Batch Loss: 0.132764, Accuracy: 57745/60000 (96%)\n",
      "\n",
      "Val Set: Loss: 0.001070, Accuracy: 9827/10000 (98%)\n",
      "==========================================================================================\n",
      "Train Epoch: 11\n"
     ]
    },
    {
     "name": "stderr",
     "output_type": "stream",
     "text": [
      "100%|██████████| 1200/1200 [00:07<00:00, 167.26it/s]\n"
     ]
    },
    {
     "name": "stdout",
     "output_type": "stream",
     "text": [
      "Train Set: Average Batch Loss: 0.125333, Accuracy: 57877/60000 (96%)\n",
      "\n",
      "Val Set: Loss: 0.001003, Accuracy: 9843/10000 (98%)\n",
      "==========================================================================================\n",
      "Train Epoch: 12\n"
     ]
    },
    {
     "name": "stderr",
     "output_type": "stream",
     "text": [
      "100%|██████████| 1200/1200 [00:07<00:00, 168.06it/s]\n"
     ]
    },
    {
     "name": "stdout",
     "output_type": "stream",
     "text": [
      "Train Set: Average Batch Loss: 0.119383, Accuracy: 57957/60000 (97%)\n",
      "\n",
      "Val Set: Loss: 0.000925, Accuracy: 9848/10000 (98%)\n",
      "==========================================================================================\n",
      "Train Epoch: 13\n"
     ]
    },
    {
     "name": "stderr",
     "output_type": "stream",
     "text": [
      "100%|██████████| 1200/1200 [00:07<00:00, 168.08it/s]\n"
     ]
    },
    {
     "name": "stdout",
     "output_type": "stream",
     "text": [
      "Train Set: Average Batch Loss: 0.110725, Accuracy: 58116/60000 (97%)\n",
      "\n",
      "Val Set: Loss: 0.000878, Accuracy: 9847/10000 (98%)\n",
      "==========================================================================================\n",
      "Train Epoch: 14\n"
     ]
    },
    {
     "name": "stderr",
     "output_type": "stream",
     "text": [
      "100%|██████████| 1200/1200 [00:07<00:00, 164.70it/s]\n"
     ]
    },
    {
     "name": "stdout",
     "output_type": "stream",
     "text": [
      "Train Set: Average Batch Loss: 0.107477, Accuracy: 58202/60000 (97%)\n",
      "\n",
      "Val Set: Loss: 0.000821, Accuracy: 9863/10000 (99%)\n",
      "==========================================================================================\n",
      "Train Epoch: 15\n"
     ]
    },
    {
     "name": "stderr",
     "output_type": "stream",
     "text": [
      "100%|██████████| 1200/1200 [00:07<00:00, 166.56it/s]\n"
     ]
    },
    {
     "name": "stdout",
     "output_type": "stream",
     "text": [
      "Train Set: Average Batch Loss: 0.102711, Accuracy: 58229/60000 (97%)\n",
      "\n",
      "Val Set: Loss: 0.000826, Accuracy: 9864/10000 (99%)\n",
      "==========================================================================================\n",
      "Train Epoch: 16\n"
     ]
    },
    {
     "name": "stderr",
     "output_type": "stream",
     "text": [
      "100%|██████████| 1200/1200 [00:07<00:00, 169.71it/s]\n"
     ]
    },
    {
     "name": "stdout",
     "output_type": "stream",
     "text": [
      "Train Set: Average Batch Loss: 0.099187, Accuracy: 58346/60000 (97%)\n",
      "\n",
      "Val Set: Loss: 0.000783, Accuracy: 9876/10000 (99%)\n",
      "==========================================================================================\n",
      "Train Epoch: 17\n"
     ]
    },
    {
     "name": "stderr",
     "output_type": "stream",
     "text": [
      "100%|██████████| 1200/1200 [00:07<00:00, 167.04it/s]\n"
     ]
    },
    {
     "name": "stdout",
     "output_type": "stream",
     "text": [
      "Train Set: Average Batch Loss: 0.096253, Accuracy: 58369/60000 (97%)\n",
      "\n",
      "Val Set: Loss: 0.000744, Accuracy: 9876/10000 (99%)\n",
      "==========================================================================================\n",
      "Train Epoch: 18\n"
     ]
    },
    {
     "name": "stderr",
     "output_type": "stream",
     "text": [
      "100%|██████████| 1200/1200 [00:07<00:00, 167.41it/s]\n"
     ]
    },
    {
     "name": "stdout",
     "output_type": "stream",
     "text": [
      "Train Set: Average Batch Loss: 0.091784, Accuracy: 58441/60000 (97%)\n",
      "\n",
      "Val Set: Loss: 0.000726, Accuracy: 9882/10000 (99%)\n",
      "==========================================================================================\n",
      "Train Epoch: 19\n"
     ]
    },
    {
     "name": "stderr",
     "output_type": "stream",
     "text": [
      "100%|██████████| 1200/1200 [00:07<00:00, 165.00it/s]\n"
     ]
    },
    {
     "name": "stdout",
     "output_type": "stream",
     "text": [
      "Train Set: Average Batch Loss: 0.089039, Accuracy: 58509/60000 (98%)\n",
      "\n",
      "Val Set: Loss: 0.000747, Accuracy: 9883/10000 (99%)\n",
      "==========================================================================================\n",
      "Train Epoch: 20\n"
     ]
    },
    {
     "name": "stderr",
     "output_type": "stream",
     "text": [
      "100%|██████████| 1200/1200 [00:07<00:00, 167.10it/s]\n"
     ]
    },
    {
     "name": "stdout",
     "output_type": "stream",
     "text": [
      "Train Set: Average Batch Loss: 0.084561, Accuracy: 58532/60000 (98%)\n",
      "\n",
      "Val Set: Loss: 0.000693, Accuracy: 9887/10000 (99%)\n",
      "==========================================================================================\n",
      "Train Epoch: 21\n"
     ]
    },
    {
     "name": "stderr",
     "output_type": "stream",
     "text": [
      "100%|██████████| 1200/1200 [00:07<00:00, 164.33it/s]\n"
     ]
    },
    {
     "name": "stdout",
     "output_type": "stream",
     "text": [
      "Train Set: Average Batch Loss: 0.083765, Accuracy: 58523/60000 (98%)\n",
      "\n",
      "Val Set: Loss: 0.000644, Accuracy: 9897/10000 (99%)\n",
      "==========================================================================================\n",
      "Train Epoch: 22\n"
     ]
    },
    {
     "name": "stderr",
     "output_type": "stream",
     "text": [
      "100%|██████████| 1200/1200 [00:07<00:00, 167.62it/s]\n"
     ]
    },
    {
     "name": "stdout",
     "output_type": "stream",
     "text": [
      "Train Set: Average Batch Loss: 0.081626, Accuracy: 58644/60000 (98%)\n",
      "\n",
      "Val Set: Loss: 0.000620, Accuracy: 9898/10000 (99%)\n",
      "==========================================================================================\n",
      "Train Epoch: 23\n"
     ]
    },
    {
     "name": "stderr",
     "output_type": "stream",
     "text": [
      "100%|██████████| 1200/1200 [00:07<00:00, 166.85it/s]\n"
     ]
    },
    {
     "name": "stdout",
     "output_type": "stream",
     "text": [
      "Train Set: Average Batch Loss: 0.079066, Accuracy: 58651/60000 (98%)\n",
      "\n",
      "Val Set: Loss: 0.000628, Accuracy: 9903/10000 (99%)\n",
      "==========================================================================================\n",
      "Train Epoch: 24\n"
     ]
    },
    {
     "name": "stderr",
     "output_type": "stream",
     "text": [
      "100%|██████████| 1200/1200 [00:07<00:00, 169.32it/s]\n"
     ]
    },
    {
     "name": "stdout",
     "output_type": "stream",
     "text": [
      "Train Set: Average Batch Loss: 0.076974, Accuracy: 58635/60000 (98%)\n",
      "\n",
      "Val Set: Loss: 0.000620, Accuracy: 9905/10000 (99%)\n",
      "==========================================================================================\n",
      "Train Epoch: 25\n"
     ]
    },
    {
     "name": "stderr",
     "output_type": "stream",
     "text": [
      "100%|██████████| 1200/1200 [00:07<00:00, 167.05it/s]\n"
     ]
    },
    {
     "name": "stdout",
     "output_type": "stream",
     "text": [
      "Train Set: Average Batch Loss: 0.073405, Accuracy: 58767/60000 (98%)\n",
      "\n",
      "Val Set: Loss: 0.000611, Accuracy: 9895/10000 (99%)\n",
      "==========================================================================================\n",
      "Train Epoch: 26\n"
     ]
    },
    {
     "name": "stderr",
     "output_type": "stream",
     "text": [
      "100%|██████████| 1200/1200 [00:07<00:00, 167.85it/s]\n"
     ]
    },
    {
     "name": "stdout",
     "output_type": "stream",
     "text": [
      "Train Set: Average Batch Loss: 0.075819, Accuracy: 58690/60000 (98%)\n",
      "\n",
      "Val Set: Loss: 0.000603, Accuracy: 9900/10000 (99%)\n",
      "==========================================================================================\n",
      "Train Epoch: 27\n"
     ]
    },
    {
     "name": "stderr",
     "output_type": "stream",
     "text": [
      "100%|██████████| 1200/1200 [00:07<00:00, 168.96it/s]\n"
     ]
    },
    {
     "name": "stdout",
     "output_type": "stream",
     "text": [
      "Train Set: Average Batch Loss: 0.072814, Accuracy: 58754/60000 (98%)\n",
      "\n",
      "Val Set: Loss: 0.000603, Accuracy: 9903/10000 (99%)\n",
      "==========================================================================================\n",
      "Train Epoch: 28\n"
     ]
    },
    {
     "name": "stderr",
     "output_type": "stream",
     "text": [
      "100%|██████████| 1200/1200 [00:07<00:00, 167.20it/s]\n"
     ]
    },
    {
     "name": "stdout",
     "output_type": "stream",
     "text": [
      "Train Set: Average Batch Loss: 0.070545, Accuracy: 58790/60000 (98%)\n",
      "\n",
      "Val Set: Loss: 0.000568, Accuracy: 9906/10000 (99%)\n",
      "==========================================================================================\n",
      "Train Epoch: 29\n"
     ]
    },
    {
     "name": "stderr",
     "output_type": "stream",
     "text": [
      "100%|██████████| 1200/1200 [00:07<00:00, 168.90it/s]\n"
     ]
    },
    {
     "name": "stdout",
     "output_type": "stream",
     "text": [
      "Train Set: Average Batch Loss: 0.068398, Accuracy: 58774/60000 (98%)\n",
      "\n",
      "Val Set: Loss: 0.000554, Accuracy: 9911/10000 (99%)\n",
      "==========================================================================================\n",
      "Train Epoch: 30\n"
     ]
    },
    {
     "name": "stderr",
     "output_type": "stream",
     "text": [
      "100%|██████████| 1200/1200 [00:07<00:00, 169.23it/s]\n"
     ]
    },
    {
     "name": "stdout",
     "output_type": "stream",
     "text": [
      "Train Set: Average Batch Loss: 0.067804, Accuracy: 58844/60000 (98%)\n",
      "\n",
      "Val Set: Loss: 0.000577, Accuracy: 9912/10000 (99%)\n",
      "==========================================================================================\n",
      "Train Epoch: 31\n"
     ]
    },
    {
     "name": "stderr",
     "output_type": "stream",
     "text": [
      "100%|██████████| 1200/1200 [00:07<00:00, 165.03it/s]\n"
     ]
    },
    {
     "name": "stdout",
     "output_type": "stream",
     "text": [
      "Train Set: Average Batch Loss: 0.064780, Accuracy: 58848/60000 (98%)\n",
      "\n",
      "Val Set: Loss: 0.000560, Accuracy: 9917/10000 (99%)\n",
      "==========================================================================================\n",
      "Train Epoch: 32\n"
     ]
    },
    {
     "name": "stderr",
     "output_type": "stream",
     "text": [
      "100%|██████████| 1200/1200 [00:07<00:00, 169.09it/s]\n"
     ]
    },
    {
     "name": "stdout",
     "output_type": "stream",
     "text": [
      "Train Set: Average Batch Loss: 0.062874, Accuracy: 58870/60000 (98%)\n",
      "\n",
      "Val Set: Loss: 0.000552, Accuracy: 9906/10000 (99%)\n",
      "==========================================================================================\n",
      "Train Epoch: 33\n"
     ]
    },
    {
     "name": "stderr",
     "output_type": "stream",
     "text": [
      "100%|██████████| 1200/1200 [00:07<00:00, 170.83it/s]\n"
     ]
    },
    {
     "name": "stdout",
     "output_type": "stream",
     "text": [
      "Train Set: Average Batch Loss: 0.062477, Accuracy: 58880/60000 (98%)\n",
      "\n",
      "Val Set: Loss: 0.000551, Accuracy: 9905/10000 (99%)\n",
      "==========================================================================================\n",
      "Train Epoch: 34\n"
     ]
    },
    {
     "name": "stderr",
     "output_type": "stream",
     "text": [
      "100%|██████████| 1200/1200 [00:07<00:00, 156.82it/s]\n"
     ]
    },
    {
     "name": "stdout",
     "output_type": "stream",
     "text": [
      "Train Set: Average Batch Loss: 0.061081, Accuracy: 58921/60000 (98%)\n",
      "\n",
      "Val Set: Loss: 0.000525, Accuracy: 9919/10000 (99%)\n",
      "==========================================================================================\n",
      "Train Epoch: 35\n"
     ]
    },
    {
     "name": "stderr",
     "output_type": "stream",
     "text": [
      "100%|██████████| 1200/1200 [00:07<00:00, 154.48it/s]\n"
     ]
    },
    {
     "name": "stdout",
     "output_type": "stream",
     "text": [
      "Train Set: Average Batch Loss: 0.061447, Accuracy: 58915/60000 (98%)\n",
      "\n",
      "Val Set: Loss: 0.000501, Accuracy: 9919/10000 (99%)\n",
      "==========================================================================================\n",
      "Train Epoch: 36\n"
     ]
    },
    {
     "name": "stderr",
     "output_type": "stream",
     "text": [
      "100%|██████████| 1200/1200 [00:07<00:00, 154.96it/s]\n"
     ]
    },
    {
     "name": "stdout",
     "output_type": "stream",
     "text": [
      "Train Set: Average Batch Loss: 0.060522, Accuracy: 58961/60000 (98%)\n",
      "\n",
      "Val Set: Loss: 0.000524, Accuracy: 9910/10000 (99%)\n",
      "==========================================================================================\n",
      "Train Epoch: 37\n"
     ]
    },
    {
     "name": "stderr",
     "output_type": "stream",
     "text": [
      "100%|██████████| 1200/1200 [00:07<00:00, 161.69it/s]\n"
     ]
    },
    {
     "name": "stdout",
     "output_type": "stream",
     "text": [
      "Train Set: Average Batch Loss: 0.060360, Accuracy: 58925/60000 (98%)\n",
      "\n",
      "Val Set: Loss: 0.000504, Accuracy: 9915/10000 (99%)\n",
      "==========================================================================================\n",
      "Train Epoch: 38\n"
     ]
    },
    {
     "name": "stderr",
     "output_type": "stream",
     "text": [
      "100%|██████████| 1200/1200 [00:07<00:00, 166.11it/s]\n"
     ]
    },
    {
     "name": "stdout",
     "output_type": "stream",
     "text": [
      "Train Set: Average Batch Loss: 0.057868, Accuracy: 58947/60000 (98%)\n",
      "\n",
      "Val Set: Loss: 0.000517, Accuracy: 9923/10000 (99%)\n",
      "==========================================================================================\n",
      "Train Epoch: 39\n"
     ]
    },
    {
     "name": "stderr",
     "output_type": "stream",
     "text": [
      "100%|██████████| 1200/1200 [00:07<00:00, 166.17it/s]\n"
     ]
    },
    {
     "name": "stdout",
     "output_type": "stream",
     "text": [
      "Train Set: Average Batch Loss: 0.055786, Accuracy: 58984/60000 (98%)\n",
      "\n",
      "Val Set: Loss: 0.000519, Accuracy: 9920/10000 (99%)\n",
      "==========================================================================================\n",
      "Train Epoch: 40\n"
     ]
    },
    {
     "name": "stderr",
     "output_type": "stream",
     "text": [
      "100%|██████████| 1200/1200 [00:07<00:00, 166.59it/s]\n"
     ]
    },
    {
     "name": "stdout",
     "output_type": "stream",
     "text": [
      "Train Set: Average Batch Loss: 0.057639, Accuracy: 58992/60000 (98%)\n",
      "\n",
      "Val Set: Loss: 0.000501, Accuracy: 9918/10000 (99%)\n",
      "==========================================================================================\n",
      "Train Epoch: 41\n"
     ]
    },
    {
     "name": "stderr",
     "output_type": "stream",
     "text": [
      "100%|██████████| 1200/1200 [00:07<00:00, 154.76it/s]\n"
     ]
    },
    {
     "name": "stdout",
     "output_type": "stream",
     "text": [
      "Train Set: Average Batch Loss: 0.055848, Accuracy: 58969/60000 (98%)\n",
      "\n",
      "Val Set: Loss: 0.000527, Accuracy: 9913/10000 (99%)\n",
      "==========================================================================================\n",
      "Train Epoch: 42\n"
     ]
    },
    {
     "name": "stderr",
     "output_type": "stream",
     "text": [
      "100%|██████████| 1200/1200 [00:07<00:00, 157.84it/s]\n"
     ]
    },
    {
     "name": "stdout",
     "output_type": "stream",
     "text": [
      "Train Set: Average Batch Loss: 0.053771, Accuracy: 59031/60000 (98%)\n",
      "\n",
      "Val Set: Loss: 0.000488, Accuracy: 9922/10000 (99%)\n",
      "==========================================================================================\n",
      "Train Epoch: 43\n"
     ]
    },
    {
     "name": "stderr",
     "output_type": "stream",
     "text": [
      "100%|██████████| 1200/1200 [00:07<00:00, 157.13it/s]\n"
     ]
    },
    {
     "name": "stdout",
     "output_type": "stream",
     "text": [
      "Train Set: Average Batch Loss: 0.056115, Accuracy: 59014/60000 (98%)\n",
      "\n",
      "Val Set: Loss: 0.000488, Accuracy: 9915/10000 (99%)\n",
      "==========================================================================================\n",
      "Train Epoch: 44\n"
     ]
    },
    {
     "name": "stderr",
     "output_type": "stream",
     "text": [
      "100%|██████████| 1200/1200 [00:07<00:00, 157.32it/s]\n"
     ]
    },
    {
     "name": "stdout",
     "output_type": "stream",
     "text": [
      "Train Set: Average Batch Loss: 0.052919, Accuracy: 59039/60000 (98%)\n",
      "\n",
      "Val Set: Loss: 0.000480, Accuracy: 9925/10000 (99%)\n",
      "==========================================================================================\n",
      "Train Epoch: 45\n"
     ]
    },
    {
     "name": "stderr",
     "output_type": "stream",
     "text": [
      "100%|██████████| 1200/1200 [00:07<00:00, 163.81it/s]\n"
     ]
    },
    {
     "name": "stdout",
     "output_type": "stream",
     "text": [
      "Train Set: Average Batch Loss: 0.053173, Accuracy: 59049/60000 (98%)\n",
      "\n",
      "Val Set: Loss: 0.000500, Accuracy: 9915/10000 (99%)\n",
      "==========================================================================================\n",
      "Train Epoch: 46\n"
     ]
    },
    {
     "name": "stderr",
     "output_type": "stream",
     "text": [
      "100%|██████████| 1200/1200 [00:07<00:00, 161.97it/s]\n"
     ]
    },
    {
     "name": "stdout",
     "output_type": "stream",
     "text": [
      "Train Set: Average Batch Loss: 0.049819, Accuracy: 59125/60000 (99%)\n",
      "\n",
      "Val Set: Loss: 0.000511, Accuracy: 9920/10000 (99%)\n",
      "==========================================================================================\n",
      "Train Epoch: 47\n"
     ]
    },
    {
     "name": "stderr",
     "output_type": "stream",
     "text": [
      "100%|██████████| 1200/1200 [00:07<00:00, 162.53it/s]\n"
     ]
    },
    {
     "name": "stdout",
     "output_type": "stream",
     "text": [
      "Train Set: Average Batch Loss: 0.052214, Accuracy: 59085/60000 (98%)\n",
      "\n",
      "Val Set: Loss: 0.000500, Accuracy: 9914/10000 (99%)\n",
      "==========================================================================================\n",
      "Train Epoch: 48\n"
     ]
    },
    {
     "name": "stderr",
     "output_type": "stream",
     "text": [
      "100%|██████████| 1200/1200 [00:07<00:00, 161.89it/s]\n"
     ]
    },
    {
     "name": "stdout",
     "output_type": "stream",
     "text": [
      "Train Set: Average Batch Loss: 0.050075, Accuracy: 59121/60000 (99%)\n",
      "\n",
      "Val Set: Loss: 0.000479, Accuracy: 9922/10000 (99%)\n",
      "==========================================================================================\n",
      "Train Epoch: 49\n"
     ]
    },
    {
     "name": "stderr",
     "output_type": "stream",
     "text": [
      "100%|██████████| 1200/1200 [00:07<00:00, 158.37it/s]\n"
     ]
    },
    {
     "name": "stdout",
     "output_type": "stream",
     "text": [
      "Train Set: Average Batch Loss: 0.051383, Accuracy: 59125/60000 (99%)\n",
      "\n",
      "Val Set: Loss: 0.000478, Accuracy: 9921/10000 (99%)\n",
      "==========================================================================================\n",
      "Train Epoch: 50\n"
     ]
    },
    {
     "name": "stderr",
     "output_type": "stream",
     "text": [
      "100%|██████████| 1200/1200 [00:07<00:00, 158.47it/s]\n"
     ]
    },
    {
     "name": "stdout",
     "output_type": "stream",
     "text": [
      "Train Set: Average Batch Loss: 0.049460, Accuracy: 59087/60000 (98%)\n",
      "\n",
      "Val Set: Loss: 0.000471, Accuracy: 9927/10000 (99%)\n"
     ]
    }
   ],
   "source": [
    "for epoch in range(0, epochs):\n",
    "     print('==='*30)\n",
    "     train(epoch=epoch, dataloader=train_loader, optimizer=optimizer)\n",
    "     validation(epoch=epoch, dataloader=test_loader)"
   ]
  },
  {
   "cell_type": "markdown",
   "metadata": {},
   "source": [
    "### Test Model"
   ]
  },
  {
   "cell_type": "code",
   "execution_count": 56,
   "metadata": {},
   "outputs": [
    {
     "name": "stdout",
     "output_type": "stream",
     "text": [
      "\n",
      "Test Set: Loss: 0.000471, Accuracy: 9927/10000 (99%)\n"
     ]
    }
   ],
   "source": [
    "test(test_loader)"
   ]
  },
  {
   "cell_type": "markdown",
   "metadata": {},
   "source": [
    "### Plot Results"
   ]
  },
  {
   "cell_type": "code",
   "execution_count": 57,
   "metadata": {},
   "outputs": [
    {
     "data": {
      "text/plain": [
       "Text(0.5, 1.0, 'Loss Per Epoch')"
      ]
     },
     "execution_count": 57,
     "metadata": {},
     "output_type": "execute_result"
    },
    {
     "data": {
      "image/png": "[encoded data removed]",
      "text/plain": [
       "<Figure size 640x480 with 1 Axes>"
      ]
     },
     "metadata": {},
     "output_type": "display_data"
    }
   ],
   "source": [
    "fig = plt.figure()\n",
    "plt.plot(train_loss_epoch, color='blue')\n",
    "plt.plot(val_loss_epoch, color='red')\n",
    "plt.legend(['Train Loss', 'Validation Loss'], loc='upper right')\n",
    "plt.xlabel('Epochs')\n",
    "plt.ylabel('Loss')\n",
    "plt.title('Loss Per Epoch')"
   ]
  },
  {
   "cell_type": "code",
   "execution_count": 58,
   "metadata": {},
   "outputs": [
    {
     "data": {
      "text/plain": [
       "Text(0.5, 1.0, 'Accuracy Per Epoch')"
      ]
     },
     "execution_count": 58,
     "metadata": {},
     "output_type": "execute_result"
    },
    {
     "data": {
      "image/png": "[encoded data removed]",
      "text/plain": [
       "<Figure size 640x480 with 1 Axes>"
      ]
     },
     "metadata": {},
     "output_type": "display_data"
    }
   ],
   "source": [
    "fig = plt.figure()\n",
    "plt.plot(train_acc_epoch, color='blue')\n",
    "plt.plot(val_acc_epoch, color='red')\n",
    "plt.legend(['Train Accuracy', 'Validation Accuracy'], loc='upper right')\n",
    "plt.xlabel('Epochs')\n",
    "plt.ylabel('Accuracy')\n",
    "plt.title('Accuracy Per Epoch')"
   ]
  },
  {
   "cell_type": "code",
   "execution_count": 59,
   "metadata": {},
   "outputs": [
    {
     "data": {
      "image/png": "[encoded data removed]",
      "text/plain": [
       "<Figure size 640x480 with 6 Axes>"
      ]
     },
     "metadata": {},
     "output_type": "display_data"
    }
   ],
   "source": [
    "with torch.no_grad():\n",
    "  if torch.cuda.is_available():\n",
    "    model = model.to(torch.device('cpu'))\n",
    "  output = model(example_data)\n",
    "\n",
    "fig = plt.figure()\n",
    "for i in range(6):\n",
    "  plt.subplot(2,3,i+1)\n",
    "  plt.tight_layout()\n",
    "  plt.imshow(example_data[i][0], cmap='gray', interpolation='none')\n",
    "  plt.title(\"Prediction: {}\".format(\n",
    "    output.data.max(1, keepdim=True)[1][i].item()))\n",
    "  plt.xticks([])\n",
    "  plt.yticks([])"
   ]
  }
 ],
 "metadata": {
  "kernelspec": {
   "display_name": "Python 3",
   "language": "python",
   "name": "python3"
  },
  "language_info": {
   "codemirror_mode": {
    "name": "ipython",
    "version": 3
   },
   "file_extension": ".py",
   "mimetype": "text/x-python",
   "name": "python",
   "nbconvert_exporter": "python",
   "pygments_lexer": "ipython3",
   "version": "3.11.7"
  }
 },
 "nbformat": 4,
 "nbformat_minor": 2
}
