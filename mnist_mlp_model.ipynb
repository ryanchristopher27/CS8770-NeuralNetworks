{
 "cells": [
  {
   "cell_type": "code",
   "execution_count": 20,
   "metadata": {},
   "outputs": [],
   "source": [
    "%matplotlib inline"
   ]
  },
  {
   "cell_type": "markdown",
   "metadata": {},
   "source": [
    "### Install Python Packages"
   ]
  },
  {
   "cell_type": "code",
   "execution_count": 21,
   "metadata": {},
   "outputs": [],
   "source": [
    "# include our Python packages\n",
    "import torch\n",
    "import torch.nn as nn\n",
    "import torch.nn.functional as F\n",
    "from torch.autograd import Variable\n",
    "from torch.autograd import Function\n",
    "import torch.optim as optim\n",
    "import numpy as np\n",
    "import matplotlib\n",
    "import matplotlib.pyplot as plt\n",
    "import torchvision.transforms as transforms\n",
    "from torchvision.datasets import MNIST\n",
    "from torch.utils.data import DataLoader\n",
    "from tqdm import tqdm"
   ]
  },
  {
   "cell_type": "code",
   "execution_count": 22,
   "metadata": {},
   "outputs": [
    {
     "data": {
      "text/plain": [
       "True"
      ]
     },
     "execution_count": 22,
     "metadata": {},
     "output_type": "execute_result"
    }
   ],
   "source": [
    "torch.cuda.is_available()"
   ]
  },
  {
   "cell_type": "markdown",
   "metadata": {},
   "source": [
    "### GPU Setup"
   ]
  },
  {
   "cell_type": "code",
   "execution_count": 23,
   "metadata": {},
   "outputs": [
    {
     "name": "stdout",
     "output_type": "stream",
     "text": [
      "0\n",
      "NVIDIA GeForce RTX 3060 Ti\n",
      "<torch.cuda.device object at 0x000001B506768990>\n",
      "1\n",
      "cuda\n"
     ]
    }
   ],
   "source": [
    "if torch.cuda.is_available():\n",
    "    print(torch.cuda.current_device())     # The ID of the current GPU.\n",
    "    print(torch.cuda.get_device_name(id))  # The name of the specified GPU, where id is an integer.\n",
    "    print(torch.cuda.device(id))           # The memory address of the specified GPU, where id is an integer.\n",
    "    print(torch.cuda.device_count())\n",
    "\n",
    "on_gpu = torch.cuda.is_available()\n",
    "\n",
    "device = torch.device(\"cuda\" if torch.cuda.is_available() else \"cpu\")\n",
    "print(device)"
   ]
  },
  {
   "cell_type": "markdown",
   "metadata": {},
   "source": [
    "### Get MNIST Dataset and DataLoader"
   ]
  },
  {
   "cell_type": "code",
   "execution_count": 24,
   "metadata": {},
   "outputs": [],
   "source": [
    "transform = transforms.Compose([\n",
    "    transforms.ToTensor(),\n",
    "    transforms.Normalize((0.5,), (0.5,)),\n",
    "])\n",
    "\n",
    "# # Flatten operation (assuming you want to flatten the tensor along the spatial dimensions)\n",
    "# flatten = transforms.Lambda(lambda x: x.view(-1))\n",
    "\n",
    "# # Combine the original transforms with the flatten operation\n",
    "# combined_transform = transforms.Compose([\n",
    "#     transform,\n",
    "#     flatten,\n",
    "# ])\n",
    "\n",
    "train_dataset = MNIST(root='./data', train=True, transform=transform, download=True)\n",
    "train_loader = DataLoader(dataset=train_dataset, batch_size=50, shuffle=True)\n",
    "\n",
    "test_dataset = MNIST(root='./data', train=False, download=True, transform=transform)\n",
    "test_loader = DataLoader(dataset=test_dataset, batch_size=50, shuffle=True)"
   ]
  },
  {
   "cell_type": "markdown",
   "metadata": {},
   "source": [
    "#### View Images"
   ]
  },
  {
   "cell_type": "code",
   "execution_count": 25,
   "metadata": {},
   "outputs": [
    {
     "data": {
      "image/png": "[encoded data removed]",
      "text/plain": [
       "<Figure size 640x480 with 6 Axes>"
      ]
     },
     "metadata": {},
     "output_type": "display_data"
    }
   ],
   "source": [
    "examples = enumerate(test_loader)\n",
    "batch_idx, (example_data, example_targets) = next(examples)\n",
    "\n",
    "fig = plt.figure()\n",
    "for i in range(6):\n",
    "  plt.subplot(2,3,i+1)\n",
    "  plt.tight_layout()\n",
    "  plt.imshow(example_data[i][0], cmap='gray', interpolation='none')\n",
    "  plt.title(\"Ground Truth: {}\".format(example_targets[i]))\n",
    "  plt.xticks([])\n",
    "  plt.yticks([])"
   ]
  },
  {
   "cell_type": "markdown",
   "metadata": {},
   "source": [
    "### Create MLP"
   ]
  },
  {
   "cell_type": "code",
   "execution_count": 26,
   "metadata": {},
   "outputs": [],
   "source": [
    "class MLP(nn.Module):\n",
    "    def __init__(self, D_in, H1, H2, H3, H4, D_out):\n",
    "        super(MLP, self).__init__()\n",
    "        self.layers = nn.Sequential(\n",
    "            nn.Flatten(),\n",
    "            nn.Linear(D_in, H1),\n",
    "            nn.ReLU(),\n",
    "            nn.Linear(H1, H2),\n",
    "            nn.ReLU(),\n",
    "            nn.Linear(H2, H3),\n",
    "            nn.ReLU(),\n",
    "            nn.Linear(H3, H4),\n",
    "            nn.ReLU(),\n",
    "            nn.Linear(H4, D_out),\n",
    "        )\n",
    "    def forward(self, x):\n",
    "        y_pred = self.layers(x)\n",
    "        return y_pred"
   ]
  },
  {
   "cell_type": "markdown",
   "metadata": {},
   "source": [
    "### Select Model and Define HyperParameters"
   ]
  },
  {
   "cell_type": "code",
   "execution_count": 27,
   "metadata": {},
   "outputs": [
    {
     "name": "stdout",
     "output_type": "stream",
     "text": [
      "MLP(\n",
      "  (layers): Sequential(\n",
      "    (0): Flatten(start_dim=1, end_dim=-1)\n",
      "    (1): Linear(in_features=784, out_features=784, bias=True)\n",
      "    (2): ReLU()\n",
      "    (3): Linear(in_features=784, out_features=512, bias=True)\n",
      "    (4): ReLU()\n",
      "    (5): Linear(in_features=512, out_features=256, bias=True)\n",
      "    (6): ReLU()\n",
      "    (7): Linear(in_features=256, out_features=128, bias=True)\n",
      "    (8): ReLU()\n",
      "    (9): Linear(in_features=128, out_features=10, bias=True)\n",
      "  )\n",
      ")\n"
     ]
    }
   ],
   "source": [
    "model = MLP(\n",
    "    D_in = 28*28,\n",
    "    H1 = 28*28,\n",
    "    H2 = 512,\n",
    "    H3 = 256,\n",
    "    H4 = 128,\n",
    "    D_out = 10,\n",
    ")\n",
    "# model = CNN()\n",
    "\n",
    "print(model)\n",
    "\n",
    "epochs = 50\n",
    "learning_rate = 0.01\n",
    "momentum = 0.3\n",
    "\n",
    "optimizer = optim.SGD(model.parameters(), lr=learning_rate, momentum=momentum)\n",
    "\n",
    "criterion = nn.CrossEntropyLoss()\n",
    "\n",
    "status_interval = 10"
   ]
  },
  {
   "cell_type": "markdown",
   "metadata": {},
   "source": [
    "### Move Model and Data to GPU"
   ]
  },
  {
   "cell_type": "code",
   "execution_count": 28,
   "metadata": {},
   "outputs": [
    {
     "name": "stdout",
     "output_type": "stream",
     "text": [
      "Moving to Device\n"
     ]
    }
   ],
   "source": [
    "if torch.cuda.is_available():\n",
    "    print(\"Moving to Device\")\n",
    "    model.to(device)"
   ]
  },
  {
   "cell_type": "markdown",
   "metadata": {},
   "source": [
    "### Define Training Function"
   ]
  },
  {
   "cell_type": "code",
   "execution_count": 29,
   "metadata": {},
   "outputs": [],
   "source": [
    "train_loss_epoch = np.zeros(epochs)\n",
    "val_loss_epoch = np.zeros(epochs)\n",
    "\n",
    "train_acc_epoch = np.zeros(epochs)\n",
    "val_acc_epoch = np.zeros(epochs)\n",
    "\n",
    "train_correct_epoch = np.zeros(epochs)\n",
    "val_correct_epoch = np.zeros(epochs)\n",
    "\n",
    "def train(epoch, dataloader, optimizer):\n",
    "    model.train()\n",
    "\n",
    "    batch_count = len(dataloader)\n",
    "\n",
    "    loss_accumulator = 0\n",
    "    correct_accumulator = 0\n",
    "\n",
    "    print(f'Train Epoch: {epoch+1}')\n",
    "\n",
    "    for batch, (data, label) in tqdm(enumerate(dataloader), total=batch_count):\n",
    "        if on_gpu:\n",
    "            data, label = data.to(device), label.to(device)\n",
    "        optimizer.zero_grad()\n",
    "        output = model(data)\n",
    "\n",
    "        loss = criterion(output, label)\n",
    "        loss.backward()\n",
    "\n",
    "        optimizer.step()\n",
    "\n",
    "        loss_accumulator += loss.item()\n",
    "\n",
    "        pred = output.data.max(1, keepdim=True)[1]\n",
    "        correct_accumulator += pred.eq(label.data.view_as(pred)).sum()\n",
    "\n",
    "\n",
    "    train_loss_epoch[epoch] = loss_accumulator / batch_count\n",
    "    train_acc_epoch[epoch] = correct_accumulator / len(dataloader.dataset)\n",
    "    train_correct_epoch[epoch] = correct_accumulator\n",
    "\n",
    "    print(f'Train Set: Average Batch Loss: {loss_accumulator/batch_count:.6f}, Accuracy: {correct_accumulator}/{len(dataloader.dataset)} ({100 * correct_accumulator / len(dataloader.dataset):.0f}%)')"
   ]
  },
  {
   "cell_type": "markdown",
   "metadata": {},
   "source": [
    "### Define Validation Function"
   ]
  },
  {
   "cell_type": "code",
   "execution_count": 30,
   "metadata": {},
   "outputs": [],
   "source": [
    "def validation(epoch, dataloader):\n",
    "    model.eval()\n",
    "    loss_accumulator = 0\n",
    "    correct_accumulator = 0\n",
    "    with torch.no_grad():\n",
    "        for data, label in dataloader:\n",
    "            if on_gpu:\n",
    "                data, label = data.to(device), label.to(device)\n",
    "            output = model(data)\n",
    "\n",
    "            loss_accumulator += criterion(output, label)\n",
    "            # loss += F.nll_loss(output, label, size_average=False).item()\n",
    "\n",
    "            pred = output.data.max(1, keepdim=True)[1]\n",
    "            correct_accumulator += pred.eq(label.data.view_as(pred)).sum()\n",
    "\n",
    "    val_loss_epoch[epoch] = loss_accumulator / len(dataloader)\n",
    "    val_acc_epoch[epoch] = correct_accumulator / len(dataloader.dataset)\n",
    "    val_correct_epoch[epoch] = correct_accumulator\n",
    "\n",
    "    print(f'\\nVal Set: Loss: {loss_accumulator/len(dataloader.dataset):.6f}, Accuracy: {correct_accumulator}/{len(dataloader.dataset)} ({100 * correct_accumulator / len(dataloader.dataset):.0f}%)')"
   ]
  },
  {
   "cell_type": "markdown",
   "metadata": {},
   "source": [
    "### Define Testing Function"
   ]
  },
  {
   "cell_type": "code",
   "execution_count": 31,
   "metadata": {},
   "outputs": [],
   "source": [
    "def test(dataloader):\n",
    "    model.eval()\n",
    "    loss_accumulator = 0\n",
    "    correct_accumulator = 0\n",
    "    with torch.no_grad():\n",
    "        for data, label in dataloader:\n",
    "            if on_gpu:\n",
    "                data, label = data.to(device), label.to(device)\n",
    "            output = model(data)\n",
    "\n",
    "            loss_accumulator += criterion(output, label)\n",
    "            # loss += F.nll_loss(output, label, size_average=False).item()\n",
    "\n",
    "            pred = output.data.max(1, keepdim=True)[1]\n",
    "            correct_accumulator += pred.eq(label.data.view_as(pred)).sum()\n",
    "\n",
    "    test_loss = loss_accumulator/len(dataloader.dataset)\n",
    "    test_accuracy = correct_accumulator/len(dataloader.dataset)\n",
    "    test_correct = correct_accumulator\n",
    "\n",
    "    print(f'\\nTest Set: Loss: {test_loss:.6f}, Accuracy: {test_correct}/{len(dataloader.dataset)} ({100 * test_accuracy:.0f}%)')"
   ]
  },
  {
   "cell_type": "markdown",
   "metadata": {},
   "source": [
    "### Train Model"
   ]
  },
  {
   "cell_type": "code",
   "execution_count": 32,
   "metadata": {},
   "outputs": [
    {
     "name": "stdout",
     "output_type": "stream",
     "text": [
      "==========================================================================================\n",
      "Train Epoch: 1\n"
     ]
    },
    {
     "name": "stderr",
     "output_type": "stream",
     "text": [
      "100%|██████████| 1200/1200 [00:06<00:00, 184.37it/s]\n"
     ]
    },
    {
     "name": "stdout",
     "output_type": "stream",
     "text": [
      "Train Set: Average Batch Loss: 1.256022, Accuracy: 36876/60000 (61%)\n",
      "\n",
      "Val Set: Loss: 0.008419, Accuracy: 8777/10000 (88%)\n",
      "==========================================================================================\n",
      "Train Epoch: 2\n"
     ]
    },
    {
     "name": "stderr",
     "output_type": "stream",
     "text": [
      "100%|██████████| 1200/1200 [00:06<00:00, 195.22it/s]\n"
     ]
    },
    {
     "name": "stdout",
     "output_type": "stream",
     "text": [
      "Train Set: Average Batch Loss: 0.354760, Accuracy: 53668/60000 (89%)\n",
      "\n",
      "Val Set: Loss: 0.006082, Accuracy: 9137/10000 (91%)\n",
      "==========================================================================================\n",
      "Train Epoch: 3\n"
     ]
    },
    {
     "name": "stderr",
     "output_type": "stream",
     "text": [
      "100%|██████████| 1200/1200 [00:06<00:00, 188.20it/s]\n"
     ]
    },
    {
     "name": "stdout",
     "output_type": "stream",
     "text": [
      "Train Set: Average Batch Loss: 0.258132, Accuracy: 55412/60000 (92%)\n",
      "\n",
      "Val Set: Loss: 0.004430, Accuracy: 9342/10000 (93%)\n",
      "==========================================================================================\n",
      "Train Epoch: 4\n"
     ]
    },
    {
     "name": "stderr",
     "output_type": "stream",
     "text": [
      "100%|██████████| 1200/1200 [00:06<00:00, 186.49it/s]\n"
     ]
    },
    {
     "name": "stdout",
     "output_type": "stream",
     "text": [
      "Train Set: Average Batch Loss: 0.197218, Accuracy: 56458/60000 (94%)\n",
      "\n",
      "Val Set: Loss: 0.003583, Accuracy: 9464/10000 (95%)\n",
      "==========================================================================================\n",
      "Train Epoch: 5\n"
     ]
    },
    {
     "name": "stderr",
     "output_type": "stream",
     "text": [
      "100%|██████████| 1200/1200 [00:06<00:00, 184.39it/s]\n"
     ]
    },
    {
     "name": "stdout",
     "output_type": "stream",
     "text": [
      "Train Set: Average Batch Loss: 0.156794, Accuracy: 57193/60000 (95%)\n",
      "\n",
      "Val Set: Loss: 0.002748, Accuracy: 9582/10000 (96%)\n",
      "==========================================================================================\n",
      "Train Epoch: 6\n"
     ]
    },
    {
     "name": "stderr",
     "output_type": "stream",
     "text": [
      "100%|██████████| 1200/1200 [00:06<00:00, 193.45it/s]\n"
     ]
    },
    {
     "name": "stdout",
     "output_type": "stream",
     "text": [
      "Train Set: Average Batch Loss: 0.128055, Accuracy: 57688/60000 (96%)\n",
      "\n",
      "Val Set: Loss: 0.002631, Accuracy: 9600/10000 (96%)\n",
      "==========================================================================================\n",
      "Train Epoch: 7\n"
     ]
    },
    {
     "name": "stderr",
     "output_type": "stream",
     "text": [
      "100%|██████████| 1200/1200 [00:06<00:00, 189.05it/s]\n"
     ]
    },
    {
     "name": "stdout",
     "output_type": "stream",
     "text": [
      "Train Set: Average Batch Loss: 0.108582, Accuracy: 58052/60000 (97%)\n",
      "\n",
      "Val Set: Loss: 0.002158, Accuracy: 9670/10000 (97%)\n",
      "==========================================================================================\n",
      "Train Epoch: 8\n"
     ]
    },
    {
     "name": "stderr",
     "output_type": "stream",
     "text": [
      "100%|██████████| 1200/1200 [00:06<00:00, 189.08it/s]\n"
     ]
    },
    {
     "name": "stdout",
     "output_type": "stream",
     "text": [
      "Train Set: Average Batch Loss: 0.093566, Accuracy: 58308/60000 (97%)\n",
      "\n",
      "Val Set: Loss: 0.002002, Accuracy: 9699/10000 (97%)\n",
      "==========================================================================================\n",
      "Train Epoch: 9\n"
     ]
    },
    {
     "name": "stderr",
     "output_type": "stream",
     "text": [
      "100%|██████████| 1200/1200 [00:06<00:00, 190.58it/s]\n"
     ]
    },
    {
     "name": "stdout",
     "output_type": "stream",
     "text": [
      "Train Set: Average Batch Loss: 0.081741, Accuracy: 58523/60000 (98%)\n",
      "\n",
      "Val Set: Loss: 0.002148, Accuracy: 9683/10000 (97%)\n",
      "==========================================================================================\n",
      "Train Epoch: 10\n"
     ]
    },
    {
     "name": "stderr",
     "output_type": "stream",
     "text": [
      "100%|██████████| 1200/1200 [00:06<00:00, 192.53it/s]\n"
     ]
    },
    {
     "name": "stdout",
     "output_type": "stream",
     "text": [
      "Train Set: Average Batch Loss: 0.071205, Accuracy: 58721/60000 (98%)\n",
      "\n",
      "Val Set: Loss: 0.001745, Accuracy: 9727/10000 (97%)\n",
      "==========================================================================================\n",
      "Train Epoch: 11\n"
     ]
    },
    {
     "name": "stderr",
     "output_type": "stream",
     "text": [
      "100%|██████████| 1200/1200 [00:06<00:00, 192.94it/s]\n"
     ]
    },
    {
     "name": "stdout",
     "output_type": "stream",
     "text": [
      "Train Set: Average Batch Loss: 0.062061, Accuracy: 58885/60000 (98%)\n",
      "\n",
      "Val Set: Loss: 0.001680, Accuracy: 9738/10000 (97%)\n",
      "==========================================================================================\n",
      "Train Epoch: 12\n"
     ]
    },
    {
     "name": "stderr",
     "output_type": "stream",
     "text": [
      "100%|██████████| 1200/1200 [00:06<00:00, 191.53it/s]\n"
     ]
    },
    {
     "name": "stdout",
     "output_type": "stream",
     "text": [
      "Train Set: Average Batch Loss: 0.055930, Accuracy: 58990/60000 (98%)\n",
      "\n",
      "Val Set: Loss: 0.001591, Accuracy: 9759/10000 (98%)\n",
      "==========================================================================================\n",
      "Train Epoch: 13\n"
     ]
    },
    {
     "name": "stderr",
     "output_type": "stream",
     "text": [
      "100%|██████████| 1200/1200 [00:06<00:00, 182.33it/s]\n"
     ]
    },
    {
     "name": "stdout",
     "output_type": "stream",
     "text": [
      "Train Set: Average Batch Loss: 0.049438, Accuracy: 59115/60000 (99%)\n",
      "\n",
      "Val Set: Loss: 0.001484, Accuracy: 9768/10000 (98%)\n",
      "==========================================================================================\n",
      "Train Epoch: 14\n"
     ]
    },
    {
     "name": "stderr",
     "output_type": "stream",
     "text": [
      "100%|██████████| 1200/1200 [00:06<00:00, 183.18it/s]\n"
     ]
    },
    {
     "name": "stdout",
     "output_type": "stream",
     "text": [
      "Train Set: Average Batch Loss: 0.044625, Accuracy: 59193/60000 (99%)\n",
      "\n",
      "Val Set: Loss: 0.001393, Accuracy: 9792/10000 (98%)\n",
      "==========================================================================================\n",
      "Train Epoch: 15\n"
     ]
    },
    {
     "name": "stderr",
     "output_type": "stream",
     "text": [
      "100%|██████████| 1200/1200 [00:06<00:00, 181.04it/s]\n"
     ]
    },
    {
     "name": "stdout",
     "output_type": "stream",
     "text": [
      "Train Set: Average Batch Loss: 0.039183, Accuracy: 59280/60000 (99%)\n",
      "\n",
      "Val Set: Loss: 0.001632, Accuracy: 9753/10000 (98%)\n",
      "==========================================================================================\n",
      "Train Epoch: 16\n"
     ]
    },
    {
     "name": "stderr",
     "output_type": "stream",
     "text": [
      "100%|██████████| 1200/1200 [00:06<00:00, 185.29it/s]\n"
     ]
    },
    {
     "name": "stdout",
     "output_type": "stream",
     "text": [
      "Train Set: Average Batch Loss: 0.034433, Accuracy: 59358/60000 (99%)\n",
      "\n",
      "Val Set: Loss: 0.001595, Accuracy: 9760/10000 (98%)\n",
      "==========================================================================================\n",
      "Train Epoch: 17\n"
     ]
    },
    {
     "name": "stderr",
     "output_type": "stream",
     "text": [
      "100%|██████████| 1200/1200 [00:06<00:00, 187.70it/s]\n"
     ]
    },
    {
     "name": "stdout",
     "output_type": "stream",
     "text": [
      "Train Set: Average Batch Loss: 0.030708, Accuracy: 59446/60000 (99%)\n",
      "\n",
      "Val Set: Loss: 0.001480, Accuracy: 9782/10000 (98%)\n",
      "==========================================================================================\n",
      "Train Epoch: 18\n"
     ]
    },
    {
     "name": "stderr",
     "output_type": "stream",
     "text": [
      "100%|██████████| 1200/1200 [00:06<00:00, 189.45it/s]\n"
     ]
    },
    {
     "name": "stdout",
     "output_type": "stream",
     "text": [
      "Train Set: Average Batch Loss: 0.026891, Accuracy: 59514/60000 (99%)\n",
      "\n",
      "Val Set: Loss: 0.001437, Accuracy: 9782/10000 (98%)\n",
      "==========================================================================================\n",
      "Train Epoch: 19\n"
     ]
    },
    {
     "name": "stderr",
     "output_type": "stream",
     "text": [
      "100%|██████████| 1200/1200 [00:06<00:00, 191.37it/s]\n"
     ]
    },
    {
     "name": "stdout",
     "output_type": "stream",
     "text": [
      "Train Set: Average Batch Loss: 0.022866, Accuracy: 59623/60000 (99%)\n",
      "\n",
      "Val Set: Loss: 0.001544, Accuracy: 9775/10000 (98%)\n",
      "==========================================================================================\n",
      "Train Epoch: 20\n"
     ]
    },
    {
     "name": "stderr",
     "output_type": "stream",
     "text": [
      "100%|██████████| 1200/1200 [00:06<00:00, 189.55it/s]\n"
     ]
    },
    {
     "name": "stdout",
     "output_type": "stream",
     "text": [
      "Train Set: Average Batch Loss: 0.021526, Accuracy: 59629/60000 (99%)\n",
      "\n",
      "Val Set: Loss: 0.001492, Accuracy: 9783/10000 (98%)\n",
      "==========================================================================================\n",
      "Train Epoch: 21\n"
     ]
    },
    {
     "name": "stderr",
     "output_type": "stream",
     "text": [
      "100%|██████████| 1200/1200 [00:06<00:00, 190.33it/s]\n"
     ]
    },
    {
     "name": "stdout",
     "output_type": "stream",
     "text": [
      "Train Set: Average Batch Loss: 0.018495, Accuracy: 59672/60000 (99%)\n",
      "\n",
      "Val Set: Loss: 0.001590, Accuracy: 9777/10000 (98%)\n",
      "==========================================================================================\n",
      "Train Epoch: 22\n"
     ]
    },
    {
     "name": "stderr",
     "output_type": "stream",
     "text": [
      "100%|██████████| 1200/1200 [00:06<00:00, 180.34it/s]\n"
     ]
    },
    {
     "name": "stdout",
     "output_type": "stream",
     "text": [
      "Train Set: Average Batch Loss: 0.016240, Accuracy: 59727/60000 (100%)\n",
      "\n",
      "Val Set: Loss: 0.001391, Accuracy: 9805/10000 (98%)\n",
      "==========================================================================================\n",
      "Train Epoch: 23\n"
     ]
    },
    {
     "name": "stderr",
     "output_type": "stream",
     "text": [
      "100%|██████████| 1200/1200 [00:06<00:00, 183.09it/s]\n"
     ]
    },
    {
     "name": "stdout",
     "output_type": "stream",
     "text": [
      "Train Set: Average Batch Loss: 0.013665, Accuracy: 59784/60000 (100%)\n",
      "\n",
      "Val Set: Loss: 0.001565, Accuracy: 9796/10000 (98%)\n",
      "==========================================================================================\n",
      "Train Epoch: 24\n"
     ]
    },
    {
     "name": "stderr",
     "output_type": "stream",
     "text": [
      "100%|██████████| 1200/1200 [00:06<00:00, 184.15it/s]\n"
     ]
    },
    {
     "name": "stdout",
     "output_type": "stream",
     "text": [
      "Train Set: Average Batch Loss: 0.012210, Accuracy: 59807/60000 (100%)\n",
      "\n",
      "Val Set: Loss: 0.001473, Accuracy: 9807/10000 (98%)\n",
      "==========================================================================================\n",
      "Train Epoch: 25\n"
     ]
    },
    {
     "name": "stderr",
     "output_type": "stream",
     "text": [
      "100%|██████████| 1200/1200 [00:06<00:00, 191.91it/s]\n"
     ]
    },
    {
     "name": "stdout",
     "output_type": "stream",
     "text": [
      "Train Set: Average Batch Loss: 0.010463, Accuracy: 59850/60000 (100%)\n",
      "\n",
      "Val Set: Loss: 0.001485, Accuracy: 9814/10000 (98%)\n",
      "==========================================================================================\n",
      "Train Epoch: 26\n"
     ]
    },
    {
     "name": "stderr",
     "output_type": "stream",
     "text": [
      "100%|██████████| 1200/1200 [00:06<00:00, 196.21it/s]\n"
     ]
    },
    {
     "name": "stdout",
     "output_type": "stream",
     "text": [
      "Train Set: Average Batch Loss: 0.008857, Accuracy: 59875/60000 (100%)\n",
      "\n",
      "Val Set: Loss: 0.001559, Accuracy: 9798/10000 (98%)\n",
      "==========================================================================================\n",
      "Train Epoch: 27\n"
     ]
    },
    {
     "name": "stderr",
     "output_type": "stream",
     "text": [
      "100%|██████████| 1200/1200 [00:06<00:00, 193.97it/s]\n"
     ]
    },
    {
     "name": "stdout",
     "output_type": "stream",
     "text": [
      "Train Set: Average Batch Loss: 0.007035, Accuracy: 59911/60000 (100%)\n",
      "\n",
      "Val Set: Loss: 0.001801, Accuracy: 9767/10000 (98%)\n",
      "==========================================================================================\n",
      "Train Epoch: 28\n"
     ]
    },
    {
     "name": "stderr",
     "output_type": "stream",
     "text": [
      "100%|██████████| 1200/1200 [00:06<00:00, 190.86it/s]\n"
     ]
    },
    {
     "name": "stdout",
     "output_type": "stream",
     "text": [
      "Train Set: Average Batch Loss: 0.006685, Accuracy: 59917/60000 (100%)\n",
      "\n",
      "Val Set: Loss: 0.001483, Accuracy: 9811/10000 (98%)\n",
      "==========================================================================================\n",
      "Train Epoch: 29\n"
     ]
    },
    {
     "name": "stderr",
     "output_type": "stream",
     "text": [
      "100%|██████████| 1200/1200 [00:06<00:00, 199.24it/s]\n"
     ]
    },
    {
     "name": "stdout",
     "output_type": "stream",
     "text": [
      "Train Set: Average Batch Loss: 0.004766, Accuracy: 59947/60000 (100%)\n",
      "\n",
      "Val Set: Loss: 0.001537, Accuracy: 9816/10000 (98%)\n",
      "==========================================================================================\n",
      "Train Epoch: 30\n"
     ]
    },
    {
     "name": "stderr",
     "output_type": "stream",
     "text": [
      "100%|██████████| 1200/1200 [00:06<00:00, 192.31it/s]\n"
     ]
    },
    {
     "name": "stdout",
     "output_type": "stream",
     "text": [
      "Train Set: Average Batch Loss: 0.004390, Accuracy: 59951/60000 (100%)\n",
      "\n",
      "Val Set: Loss: 0.001532, Accuracy: 9823/10000 (98%)\n",
      "==========================================================================================\n",
      "Train Epoch: 31\n"
     ]
    },
    {
     "name": "stderr",
     "output_type": "stream",
     "text": [
      "100%|██████████| 1200/1200 [00:06<00:00, 192.82it/s]\n"
     ]
    },
    {
     "name": "stdout",
     "output_type": "stream",
     "text": [
      "Train Set: Average Batch Loss: 0.002941, Accuracy: 59980/60000 (100%)\n",
      "\n",
      "Val Set: Loss: 0.001685, Accuracy: 9798/10000 (98%)\n",
      "==========================================================================================\n",
      "Train Epoch: 32\n"
     ]
    },
    {
     "name": "stderr",
     "output_type": "stream",
     "text": [
      "100%|██████████| 1200/1200 [00:06<00:00, 197.28it/s]\n"
     ]
    },
    {
     "name": "stdout",
     "output_type": "stream",
     "text": [
      "Train Set: Average Batch Loss: 0.002751, Accuracy: 59979/60000 (100%)\n",
      "\n",
      "Val Set: Loss: 0.001544, Accuracy: 9828/10000 (98%)\n",
      "==========================================================================================\n",
      "Train Epoch: 33\n"
     ]
    },
    {
     "name": "stderr",
     "output_type": "stream",
     "text": [
      "100%|██████████| 1200/1200 [00:06<00:00, 192.36it/s]\n"
     ]
    },
    {
     "name": "stdout",
     "output_type": "stream",
     "text": [
      "Train Set: Average Batch Loss: 0.001971, Accuracy: 59991/60000 (100%)\n",
      "\n",
      "Val Set: Loss: 0.001566, Accuracy: 9815/10000 (98%)\n",
      "==========================================================================================\n",
      "Train Epoch: 34\n"
     ]
    },
    {
     "name": "stderr",
     "output_type": "stream",
     "text": [
      "100%|██████████| 1200/1200 [00:05<00:00, 203.52it/s]\n"
     ]
    },
    {
     "name": "stdout",
     "output_type": "stream",
     "text": [
      "Train Set: Average Batch Loss: 0.001746, Accuracy: 59991/60000 (100%)\n",
      "\n",
      "Val Set: Loss: 0.001608, Accuracy: 9820/10000 (98%)\n",
      "==========================================================================================\n",
      "Train Epoch: 35\n"
     ]
    },
    {
     "name": "stderr",
     "output_type": "stream",
     "text": [
      "100%|██████████| 1200/1200 [00:06<00:00, 190.53it/s]\n"
     ]
    },
    {
     "name": "stdout",
     "output_type": "stream",
     "text": [
      "Train Set: Average Batch Loss: 0.001614, Accuracy: 59991/60000 (100%)\n",
      "\n",
      "Val Set: Loss: 0.001625, Accuracy: 9817/10000 (98%)\n",
      "==========================================================================================\n",
      "Train Epoch: 36\n"
     ]
    },
    {
     "name": "stderr",
     "output_type": "stream",
     "text": [
      "100%|██████████| 1200/1200 [00:06<00:00, 195.60it/s]\n"
     ]
    },
    {
     "name": "stdout",
     "output_type": "stream",
     "text": [
      "Train Set: Average Batch Loss: 0.001423, Accuracy: 59995/60000 (100%)\n",
      "\n",
      "Val Set: Loss: 0.001657, Accuracy: 9810/10000 (98%)\n",
      "==========================================================================================\n",
      "Train Epoch: 37\n"
     ]
    },
    {
     "name": "stderr",
     "output_type": "stream",
     "text": [
      "100%|██████████| 1200/1200 [00:06<00:00, 185.56it/s]\n"
     ]
    },
    {
     "name": "stdout",
     "output_type": "stream",
     "text": [
      "Train Set: Average Batch Loss: 0.001260, Accuracy: 59995/60000 (100%)\n",
      "\n",
      "Val Set: Loss: 0.001626, Accuracy: 9819/10000 (98%)\n",
      "==========================================================================================\n",
      "Train Epoch: 38\n"
     ]
    },
    {
     "name": "stderr",
     "output_type": "stream",
     "text": [
      "100%|██████████| 1200/1200 [00:06<00:00, 185.74it/s]\n"
     ]
    },
    {
     "name": "stdout",
     "output_type": "stream",
     "text": [
      "Train Set: Average Batch Loss: 0.001038, Accuracy: 59995/60000 (100%)\n",
      "\n",
      "Val Set: Loss: 0.001616, Accuracy: 9820/10000 (98%)\n",
      "==========================================================================================\n",
      "Train Epoch: 39\n"
     ]
    },
    {
     "name": "stderr",
     "output_type": "stream",
     "text": [
      "100%|██████████| 1200/1200 [00:06<00:00, 192.97it/s]\n"
     ]
    },
    {
     "name": "stdout",
     "output_type": "stream",
     "text": [
      "Train Set: Average Batch Loss: 0.001017, Accuracy: 59993/60000 (100%)\n",
      "\n",
      "Val Set: Loss: 0.001634, Accuracy: 9819/10000 (98%)\n",
      "==========================================================================================\n",
      "Train Epoch: 40\n"
     ]
    },
    {
     "name": "stderr",
     "output_type": "stream",
     "text": [
      "100%|██████████| 1200/1200 [00:06<00:00, 194.44it/s]\n"
     ]
    },
    {
     "name": "stdout",
     "output_type": "stream",
     "text": [
      "Train Set: Average Batch Loss: 0.000822, Accuracy: 59998/60000 (100%)\n",
      "\n",
      "Val Set: Loss: 0.001764, Accuracy: 9815/10000 (98%)\n",
      "==========================================================================================\n",
      "Train Epoch: 41\n"
     ]
    },
    {
     "name": "stderr",
     "output_type": "stream",
     "text": [
      "100%|██████████| 1200/1200 [00:06<00:00, 194.90it/s]\n"
     ]
    },
    {
     "name": "stdout",
     "output_type": "stream",
     "text": [
      "Train Set: Average Batch Loss: 0.000732, Accuracy: 59998/60000 (100%)\n",
      "\n",
      "Val Set: Loss: 0.001682, Accuracy: 9816/10000 (98%)\n",
      "==========================================================================================\n",
      "Train Epoch: 42\n"
     ]
    },
    {
     "name": "stderr",
     "output_type": "stream",
     "text": [
      "100%|██████████| 1200/1200 [00:06<00:00, 190.28it/s]\n"
     ]
    },
    {
     "name": "stdout",
     "output_type": "stream",
     "text": [
      "Train Set: Average Batch Loss: 0.000618, Accuracy: 60000/60000 (100%)\n",
      "\n",
      "Val Set: Loss: 0.001702, Accuracy: 9817/10000 (98%)\n",
      "==========================================================================================\n",
      "Train Epoch: 43\n"
     ]
    },
    {
     "name": "stderr",
     "output_type": "stream",
     "text": [
      "100%|██████████| 1200/1200 [00:06<00:00, 192.54it/s]\n"
     ]
    },
    {
     "name": "stdout",
     "output_type": "stream",
     "text": [
      "Train Set: Average Batch Loss: 0.000657, Accuracy: 59997/60000 (100%)\n",
      "\n",
      "Val Set: Loss: 0.001705, Accuracy: 9817/10000 (98%)\n",
      "==========================================================================================\n",
      "Train Epoch: 44\n"
     ]
    },
    {
     "name": "stderr",
     "output_type": "stream",
     "text": [
      "100%|██████████| 1200/1200 [00:06<00:00, 194.68it/s]\n"
     ]
    },
    {
     "name": "stdout",
     "output_type": "stream",
     "text": [
      "Train Set: Average Batch Loss: 0.000559, Accuracy: 60000/60000 (100%)\n",
      "\n",
      "Val Set: Loss: 0.001730, Accuracy: 9818/10000 (98%)\n",
      "==========================================================================================\n",
      "Train Epoch: 45\n"
     ]
    },
    {
     "name": "stderr",
     "output_type": "stream",
     "text": [
      "100%|██████████| 1200/1200 [00:06<00:00, 188.29it/s]\n"
     ]
    },
    {
     "name": "stdout",
     "output_type": "stream",
     "text": [
      "Train Set: Average Batch Loss: 0.000516, Accuracy: 60000/60000 (100%)\n",
      "\n",
      "Val Set: Loss: 0.001736, Accuracy: 9813/10000 (98%)\n",
      "==========================================================================================\n",
      "Train Epoch: 46\n"
     ]
    },
    {
     "name": "stderr",
     "output_type": "stream",
     "text": [
      "100%|██████████| 1200/1200 [00:06<00:00, 194.19it/s]\n"
     ]
    },
    {
     "name": "stdout",
     "output_type": "stream",
     "text": [
      "Train Set: Average Batch Loss: 0.000480, Accuracy: 60000/60000 (100%)\n",
      "\n",
      "Val Set: Loss: 0.001739, Accuracy: 9814/10000 (98%)\n",
      "==========================================================================================\n",
      "Train Epoch: 47\n"
     ]
    },
    {
     "name": "stderr",
     "output_type": "stream",
     "text": [
      "100%|██████████| 1200/1200 [00:06<00:00, 193.04it/s]\n"
     ]
    },
    {
     "name": "stdout",
     "output_type": "stream",
     "text": [
      "Train Set: Average Batch Loss: 0.000449, Accuracy: 60000/60000 (100%)\n",
      "\n",
      "Val Set: Loss: 0.001755, Accuracy: 9817/10000 (98%)\n",
      "==========================================================================================\n",
      "Train Epoch: 48\n"
     ]
    },
    {
     "name": "stderr",
     "output_type": "stream",
     "text": [
      "100%|██████████| 1200/1200 [00:06<00:00, 188.33it/s]\n"
     ]
    },
    {
     "name": "stdout",
     "output_type": "stream",
     "text": [
      "Train Set: Average Batch Loss: 0.000432, Accuracy: 60000/60000 (100%)\n",
      "\n",
      "Val Set: Loss: 0.001739, Accuracy: 9813/10000 (98%)\n",
      "==========================================================================================\n",
      "Train Epoch: 49\n"
     ]
    },
    {
     "name": "stderr",
     "output_type": "stream",
     "text": [
      "100%|██████████| 1200/1200 [00:06<00:00, 189.78it/s]\n"
     ]
    },
    {
     "name": "stdout",
     "output_type": "stream",
     "text": [
      "Train Set: Average Batch Loss: 0.000410, Accuracy: 60000/60000 (100%)\n",
      "\n",
      "Val Set: Loss: 0.001747, Accuracy: 9816/10000 (98%)\n",
      "==========================================================================================\n",
      "Train Epoch: 50\n"
     ]
    },
    {
     "name": "stderr",
     "output_type": "stream",
     "text": [
      "100%|██████████| 1200/1200 [00:06<00:00, 193.55it/s]\n"
     ]
    },
    {
     "name": "stdout",
     "output_type": "stream",
     "text": [
      "Train Set: Average Batch Loss: 0.000386, Accuracy: 60000/60000 (100%)\n",
      "\n",
      "Val Set: Loss: 0.001782, Accuracy: 9814/10000 (98%)\n"
     ]
    }
   ],
   "source": [
    "for epoch in range(0, epochs):\n",
    "     print('==='*30)\n",
    "     train(epoch=epoch, dataloader=train_loader, optimizer=optimizer)\n",
    "     validation(epoch=epoch, dataloader=test_loader)"
   ]
  },
  {
   "cell_type": "markdown",
   "metadata": {},
   "source": [
    "### Test Model"
   ]
  },
  {
   "cell_type": "code",
   "execution_count": 33,
   "metadata": {},
   "outputs": [
    {
     "name": "stdout",
     "output_type": "stream",
     "text": [
      "\n",
      "Test Set: Loss: 0.001782, Accuracy: 9814/10000 (98%)\n"
     ]
    }
   ],
   "source": [
    "test(test_loader)"
   ]
  },
  {
   "cell_type": "markdown",
   "metadata": {},
   "source": [
    "### Plot Results"
   ]
  },
  {
   "cell_type": "code",
   "execution_count": 34,
   "metadata": {},
   "outputs": [
    {
     "data": {
      "text/plain": [
       "Text(0.5, 1.0, 'Loss Per Epoch')"
      ]
     },
     "execution_count": 34,
     "metadata": {},
     "output_type": "execute_result"
    },
    {
     "data": {
      "image/png": "[encoded data removed]",
      "text/plain": [
       "<Figure size 640x480 with 1 Axes>"
      ]
     },
     "metadata": {},
     "output_type": "display_data"
    }
   ],
   "source": [
    "fig = plt.figure()\n",
    "plt.plot(train_loss_epoch, color='blue')\n",
    "plt.plot(val_loss_epoch, color='red')\n",
    "plt.legend(['Train Loss', 'Validation Loss'], loc='upper right')\n",
    "plt.xlabel('Epochs')\n",
    "plt.ylabel('Loss')\n",
    "plt.title('Loss Per Epoch')"
   ]
  },
  {
   "cell_type": "code",
   "execution_count": 35,
   "metadata": {},
   "outputs": [
    {
     "data": {
      "text/plain": [
       "Text(0.5, 1.0, 'Accuracy Per Epoch')"
      ]
     },
     "execution_count": 35,
     "metadata": {},
     "output_type": "execute_result"
    },
    {
     "data": {
      "image/png": "[encoded data removed]",
      "text/plain": [
       "<Figure size 640x480 with 1 Axes>"
      ]
     },
     "metadata": {},
     "output_type": "display_data"
    }
   ],
   "source": [
    "fig = plt.figure()\n",
    "plt.plot(train_acc_epoch, color='blue')\n",
    "plt.plot(val_acc_epoch, color='red')\n",
    "plt.legend(['Train Accuracy', 'Validation Accuracy'], loc='upper right')\n",
    "plt.xlabel('Epochs')\n",
    "plt.ylabel('Accuracy')\n",
    "plt.title('Accuracy Per Epoch')"
   ]
  },
  {
   "cell_type": "code",
   "execution_count": 37,
   "metadata": {},
   "outputs": [
    {
     "data": {
      "image/png": "[encoded data removed]",
      "text/plain": [
       "<Figure size 640x480 with 6 Axes>"
      ]
     },
     "metadata": {},
     "output_type": "display_data"
    }
   ],
   "source": [
    "with torch.no_grad():\n",
    "  if torch.cuda.is_available():\n",
    "    model = model.to(torch.device('cpu'))\n",
    "  output = model(example_data)\n",
    "\n",
    "fig = plt.figure()\n",
    "for i in range(6):\n",
    "  plt.subplot(2,3,i+1)\n",
    "  plt.tight_layout()\n",
    "  plt.imshow(example_data[i][0], cmap='gray', interpolation='none')\n",
    "  plt.title(\"Prediction: {}\".format(\n",
    "    output.data.max(1, keepdim=True)[1][i].item()))\n",
    "  plt.xticks([])\n",
    "  plt.yticks([])"
   ]
  }
 ],
 "metadata": {
  "kernelspec": {
   "display_name": "Python 3",
   "language": "python",
   "name": "python3"
  },
  "language_info": {
   "codemirror_mode": {
    "name": "ipython",
    "version": 3
   },
   "file_extension": ".py",
   "mimetype": "text/x-python",
   "name": "python",
   "nbconvert_exporter": "python",
   "pygments_lexer": "ipython3",
   "version": "3.11.7"
  }
 },
 "nbformat": 4,
 "nbformat_minor": 2
}
