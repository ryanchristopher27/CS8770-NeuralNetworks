{
 "cells": [
  {
   "cell_type": "code",
   "execution_count": 1,
   "metadata": {},
   "outputs": [],
   "source": [
    "import numpy as np\n",
    "import pandas as pd\n",
    "import yfinance as yf\n",
    "import datetime as dt\n",
    "import matplotlib.pyplot as plt\n",
    "import math\n"
   ]
  },
  {
   "cell_type": "code",
   "execution_count": 2,
   "metadata": {},
   "outputs": [
    {
     "name": "stderr",
     "output_type": "stream",
     "text": [
      "[*********************100%%**********************]  1 of 1 completed\n"
     ]
    },
    {
     "data": {
      "text/html": [
       "<div>\n",
       "<style scoped>\n",
       "    .dataframe tbody tr th:only-of-type {\n",
       "        vertical-align: middle;\n",
       "    }\n",
       "\n",
       "    .dataframe tbody tr th {\n",
       "        vertical-align: top;\n",
       "    }\n",
       "\n",
       "    .dataframe thead th {\n",
       "        text-align: right;\n",
       "    }\n",
       "</style>\n",
       "<table border=\"1\" class=\"dataframe\">\n",
       "  <thead>\n",
       "    <tr style=\"text-align: right;\">\n",
       "      <th></th>\n",
       "      <th>Open</th>\n",
       "      <th>High</th>\n",
       "      <th>Low</th>\n",
       "      <th>Close</th>\n",
       "      <th>Adj Close</th>\n",
       "      <th>Volume</th>\n",
       "    </tr>\n",
       "    <tr>\n",
       "      <th>Date</th>\n",
       "      <th></th>\n",
       "      <th></th>\n",
       "      <th></th>\n",
       "      <th></th>\n",
       "      <th></th>\n",
       "      <th></th>\n",
       "    </tr>\n",
       "  </thead>\n",
       "  <tbody>\n",
       "    <tr>\n",
       "      <th>2020-04-01</th>\n",
       "      <td>56.200001</td>\n",
       "      <td>56.471001</td>\n",
       "      <td>54.674500</td>\n",
       "      <td>55.105000</td>\n",
       "      <td>55.105000</td>\n",
       "      <td>51970000</td>\n",
       "    </tr>\n",
       "    <tr>\n",
       "      <th>2020-04-02</th>\n",
       "      <td>55.000000</td>\n",
       "      <td>56.138500</td>\n",
       "      <td>54.656502</td>\n",
       "      <td>55.851501</td>\n",
       "      <td>55.851501</td>\n",
       "      <td>56410000</td>\n",
       "    </tr>\n",
       "    <tr>\n",
       "      <th>2020-04-03</th>\n",
       "      <td>55.735500</td>\n",
       "      <td>55.939499</td>\n",
       "      <td>53.754002</td>\n",
       "      <td>54.634998</td>\n",
       "      <td>54.634998</td>\n",
       "      <td>51374000</td>\n",
       "    </tr>\n",
       "    <tr>\n",
       "      <th>2020-04-06</th>\n",
       "      <td>56.650002</td>\n",
       "      <td>59.537498</td>\n",
       "      <td>56.250000</td>\n",
       "      <td>59.159500</td>\n",
       "      <td>59.159500</td>\n",
       "      <td>63320000</td>\n",
       "    </tr>\n",
       "    <tr>\n",
       "      <th>2020-04-07</th>\n",
       "      <td>60.850498</td>\n",
       "      <td>61.039001</td>\n",
       "      <td>58.862499</td>\n",
       "      <td>59.127998</td>\n",
       "      <td>59.127998</td>\n",
       "      <td>61620000</td>\n",
       "    </tr>\n",
       "  </tbody>\n",
       "</table>\n",
       "</div>"
      ],
      "text/plain": [
       "                 Open       High        Low      Close  Adj Close    Volume\n",
       "Date                                                                       \n",
       "2020-04-01  56.200001  56.471001  54.674500  55.105000  55.105000  51970000\n",
       "2020-04-02  55.000000  56.138500  54.656502  55.851501  55.851501  56410000\n",
       "2020-04-03  55.735500  55.939499  53.754002  54.634998  54.634998  51374000\n",
       "2020-04-06  56.650002  59.537498  56.250000  59.159500  59.159500  63320000\n",
       "2020-04-07  60.850498  61.039001  58.862499  59.127998  59.127998  61620000"
      ]
     },
     "execution_count": 2,
     "metadata": {},
     "output_type": "execute_result"
    }
   ],
   "source": [
    "start_date = dt.datetime(2020,4,1)\n",
    "end_date = dt.datetime(2023,4,1)\n",
    " \n",
    "#loading from yahoo finance\n",
    "data = yf.download(\"GOOGL\",start_date, end_date)\n",
    " \n",
    "# pd.set_option('display.max_rows', 4)\n",
    "# pd.set_option('display.max_columns',5)\n",
    "\n",
    "data.head()"
   ]
  },
  {
   "cell_type": "code",
   "execution_count": 79,
   "metadata": {},
   "outputs": [
    {
     "name": "stdout",
     "output_type": "stream",
     "text": [
      "(605, 6) (151, 6)\n",
      "Train Max:  151.25\n",
      "Train Min:  55.0\n",
      "Test Max:  114.72000122070312\n",
      "Test Min:  85.4000015258789\n"
     ]
    }
   ],
   "source": [
    "# Setting 80 percent data for training\n",
    "training_data_len = math.ceil(len(data) * .8)\n",
    "training_data_len \n",
    "\n",
    "#Splitting the dataset\n",
    "# train_data = data[:training_data_len].iloc[:,:1] \n",
    "# test_data = data[training_data_len:].iloc[:,:1]\n",
    "train_data = data[:training_data_len].iloc[:,:] \n",
    "test_data = data[training_data_len:].iloc[:,:]\n",
    "print(train_data.shape, test_data.shape)\n",
    "train_data.head()\n",
    "\n",
    "print(\"Train Max: \", train_data.Open.max())\n",
    "print(\"Train Min: \", train_data.Open.min())\n",
    "print(\"Test Max: \", test_data.Open.max())\n",
    "print(\"Test Min: \", test_data.Open.min())\n",
    "\n",
    "\n"
   ]
  },
  {
   "cell_type": "code",
   "execution_count": 44,
   "metadata": {},
   "outputs": [
    {
     "data": {
      "text/plain": [
       "(605, 6)"
      ]
     },
     "execution_count": 44,
     "metadata": {},
     "output_type": "execute_result"
    }
   ],
   "source": [
    "# Selecting Open Price values\n",
    "# dataset_train = train_data.Open.values \n",
    "# # Reshaping 1D to 2D array\n",
    "# dataset_train = np.reshape(dataset_train, (-1,1)) \n",
    "# pd.DataFrame(dataset_train).head()\n",
    "# dataset_train.shape\n",
    "\n",
    "dataset_train = train_data.values\n",
    "# Reshaping 2D to 3D array\n",
    "# dataset_train = np.reshape(dataset_train, (-1,6)) \n",
    "# dataset_train = dataset_train[:, :, np.newaxis]\n",
    "# dataset_train = dataset_train.reshape((605, 6, 1))\n",
    "# pd.DataFrame(dataset_train).head()\n",
    "dataset_train.shape\n"
   ]
  },
  {
   "cell_type": "code",
   "execution_count": 78,
   "metadata": {},
   "outputs": [
    {
     "name": "stdout",
     "output_type": "stream",
     "text": [
      "[[[0.01246754]\n",
      "  [0.00555924]\n",
      "  [0.00967468]\n",
      "  [0.00493681]\n",
      "  [0.00493681]\n",
      "  [0.37456097]]\n",
      "\n",
      " [[0.        ]\n",
      "  [0.00208145]\n",
      "  [0.00948552]\n",
      "  [0.01277792]\n",
      "  [0.01277792]\n",
      "  [0.41354664]]\n",
      "\n",
      " [[0.00764156]\n",
      "  [0.        ]\n",
      "  [0.        ]\n",
      "  [0.        ]\n",
      "  [0.        ]\n",
      "  [0.36932776]]\n",
      "\n",
      " [[0.01714287]\n",
      "  [0.03763323]\n",
      "  [0.02623363]\n",
      "  [0.04752453]\n",
      "  [0.04752453]\n",
      "  [0.47422029]]\n",
      "\n",
      " [[0.0607844 ]\n",
      "  [0.05333817]\n",
      "  [0.05369171]\n",
      "  [0.04719364]\n",
      "  [0.04719364]\n",
      "  [0.45929334]]]\n"
     ]
    },
    {
     "data": {
      "text/plain": [
       "(605, 6, 1)"
      ]
     },
     "execution_count": 78,
     "metadata": {},
     "output_type": "execute_result"
    }
   ],
   "source": [
    "from sklearn.preprocessing import MinMaxScaler\n",
    "scaler = MinMaxScaler(feature_range=(0,1))\n",
    "# scaling dataset\n",
    "dataset_train = scaler.fit_transform(dataset_train)\n",
    "\n",
    "dataset_train = np.reshape(dataset_train, (-1,6)) \n",
    "# dataset_train = dataset_train[:, :, np.newaxis]\n",
    "scaled_train = dataset_train.reshape((605, 6, 1))\n",
    "\n",
    "print(scaled_train[:5])\n",
    "\n",
    "scaled_train.shape\n",
    "\n",
    "# pd.DataFrame(scaled_train[:, :, 0]).head()"
   ]
  },
  {
   "cell_type": "code",
   "execution_count": 72,
   "metadata": {},
   "outputs": [
    {
     "name": "stdout",
     "output_type": "stream",
     "text": [
      "[[1.14239998e+02]\n",
      " [1.16720001e+02]\n",
      " [1.14110001e+02]\n",
      " [1.16650002e+02]\n",
      " [1.16650002e+02]\n",
      " [1.69568000e+07]] [[1.14720001e+02]\n",
      " [1.15120003e+02]\n",
      " [1.10190002e+02]\n",
      " [1.10339996e+02]\n",
      " [1.10339996e+02]\n",
      " [3.72457000e+07]] [[1.09989998e+02]\n",
      " [1.10949997e+02]\n",
      " [1.08800003e+02]\n",
      " [1.09419998e+02]\n",
      " [1.09419998e+02]\n",
      " [2.11912000e+07]] [[1.10169998e+02]\n",
      " [1.10500000e+02]\n",
      " [1.07800003e+02]\n",
      " [1.08940002e+02]\n",
      " [1.08940002e+02]\n",
      " [2.75133000e+07]] [[1.10650002e+02]\n",
      " [1.10849998e+02]\n",
      " [1.08129997e+02]\n",
      " [1.08220001e+02]\n",
      " [1.08220001e+02]\n",
      " [2.86270000e+07]]\n"
     ]
    },
    {
     "data": {
      "text/plain": [
       "(151, 6, 1)"
      ]
     },
     "execution_count": 72,
     "metadata": {},
     "output_type": "execute_result"
    }
   ],
   "source": [
    "# Selecting Open Price values\n",
    "# dataset_test = test_data.Open.values  \n",
    "# Reshaping 1D to 2D array\n",
    "# dataset_test = np.reshape(dataset_test, (-1,6)) \n",
    "# # Normalizing values between 0 and 1\n",
    "# scaled_test = scaler.fit_transform(dataset_test) \n",
    "\n",
    "dataset_test = test_data.values  \n",
    "# Reshaping 1D to 2D array\n",
    "scaled_test = scaler.fit_transform(dataset_test) \n",
    "scaled_test = np.reshape(dataset_test, (-1,6)) \n",
    "scaled_test = scaled_test.reshape((151, 6, 1))\n",
    "print(*scaled_test[:5])\n",
    "\n",
    "scaled_test.shape\n"
   ]
  },
  {
   "cell_type": "code",
   "execution_count": 65,
   "metadata": {},
   "outputs": [
    {
     "data": {
      "text/plain": [
       "(555, 50, 6)"
      ]
     },
     "execution_count": 65,
     "metadata": {},
     "output_type": "execute_result"
    }
   ],
   "source": [
    "X_train = []\n",
    "y_train = []\n",
    "for i in range(50, len(scaled_train)):\n",
    "\tX_train.append(scaled_train[i-50:i, :, 0])\n",
    "\ty_train.append(scaled_train[i, 0])\n",
    "\t# if i <= 51:\n",
    "\t# \tprint(X_train)\n",
    "\t# \tprint(y_train)\n",
    "\t# \tprint()\n",
    "\n",
    "# pd.DataFrame(X_train).head()\n",
    "\n",
    "np.array(X_train).shape\n"
   ]
  },
  {
   "cell_type": "code",
   "execution_count": 74,
   "metadata": {},
   "outputs": [
    {
     "data": {
      "text/plain": [
       "(101, 50, 6)"
      ]
     },
     "execution_count": 74,
     "metadata": {},
     "output_type": "execute_result"
    }
   ],
   "source": [
    "X_test = []\n",
    "y_test = []\n",
    "for i in range(50, len(scaled_test)):\n",
    "\tX_test.append(scaled_test[i-50:i, :, 0])\n",
    "\ty_test.append(scaled_test[i, 0])\n",
    "\n",
    "np.array(X_test).shape"
   ]
  },
  {
   "cell_type": "code",
   "execution_count": 75,
   "metadata": {},
   "outputs": [
    {
     "name": "stdout",
     "output_type": "stream",
     "text": [
      "X_train : (555, 50, 6) y_train : (555, 1)\n"
     ]
    }
   ],
   "source": [
    "# The data is converted to Numpy array\n",
    "X_train, y_train = np.array(X_train), np.array(y_train)\n",
    "\n",
    "#Reshaping\n",
    "# X_train = np.reshape(X_train, (X_train.shape[0], X_train.shape[1],1))\n",
    "y_train = np.reshape(y_train, (y_train.shape[0],1))\n",
    "print(\"X_train :\",X_train.shape,\"y_train :\",y_train.shape)\n"
   ]
  },
  {
   "cell_type": "code",
   "execution_count": 76,
   "metadata": {},
   "outputs": [
    {
     "name": "stdout",
     "output_type": "stream",
     "text": [
      "X_test : (101, 50, 6) y_test : (101, 1)\n"
     ]
    }
   ],
   "source": [
    "# The data is converted to numpy array\n",
    "X_test, y_test = np.array(X_test), np.array(y_test)\n",
    "\n",
    "#Reshaping\n",
    "# X_test = np.reshape(X_test, (X_test.shape[0], X_test.shape[1],1))\n",
    "y_test = np.reshape(y_test, (y_test.shape[0],1))\n",
    "print(\"X_test :\",X_test.shape,\"y_test :\",y_test.shape)\n"
   ]
  }
 ],
 "metadata": {
  "kernelspec": {
   "display_name": "nn",
   "language": "python",
   "name": "python3"
  },
  "language_info": {
   "codemirror_mode": {
    "name": "ipython",
    "version": 3
   },
   "file_extension": ".py",
   "mimetype": "text/x-python",
   "name": "python",
   "nbconvert_exporter": "python",
   "pygments_lexer": "ipython3",
   "version": "3.11.7"
  }
 },
 "nbformat": 4,
 "nbformat_minor": 2
}
