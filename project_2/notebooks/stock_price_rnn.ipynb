{
 "cells": [
  {
   "cell_type": "code",
   "execution_count": 1,
   "metadata": {},
   "outputs": [],
   "source": [
    "import numpy as np\n",
    "import pandas as pd\n",
    "import yfinance as yf\n",
    "import datetime as dt\n",
    "import matplotlib.pyplot as plt\n",
    "import math\n"
   ]
  },
  {
   "cell_type": "code",
   "execution_count": 2,
   "metadata": {},
   "outputs": [
    {
     "name": "stderr",
     "output_type": "stream",
     "text": [
      "[*********************100%%**********************]  1 of 1 completed\n"
     ]
    },
    {
     "data": {
      "text/html": [
       "<div>\n",
       "<style scoped>\n",
       "    .dataframe tbody tr th:only-of-type {\n",
       "        vertical-align: middle;\n",
       "    }\n",
       "\n",
       "    .dataframe tbody tr th {\n",
       "        vertical-align: top;\n",
       "    }\n",
       "\n",
       "    .dataframe thead th {\n",
       "        text-align: right;\n",
       "    }\n",
       "</style>\n",
       "<table border=\"1\" class=\"dataframe\">\n",
       "  <thead>\n",
       "    <tr style=\"text-align: right;\">\n",
       "      <th></th>\n",
       "      <th>Open</th>\n",
       "      <th>High</th>\n",
       "      <th>Low</th>\n",
       "      <th>Close</th>\n",
       "      <th>Adj Close</th>\n",
       "      <th>Volume</th>\n",
       "    </tr>\n",
       "    <tr>\n",
       "      <th>Date</th>\n",
       "      <th></th>\n",
       "      <th></th>\n",
       "      <th></th>\n",
       "      <th></th>\n",
       "      <th></th>\n",
       "      <th></th>\n",
       "    </tr>\n",
       "  </thead>\n",
       "  <tbody>\n",
       "    <tr>\n",
       "      <th>2020-04-01</th>\n",
       "      <td>56.200001</td>\n",
       "      <td>56.471001</td>\n",
       "      <td>54.674500</td>\n",
       "      <td>55.105000</td>\n",
       "      <td>55.105000</td>\n",
       "      <td>51970000</td>\n",
       "    </tr>\n",
       "    <tr>\n",
       "      <th>2020-04-02</th>\n",
       "      <td>55.000000</td>\n",
       "      <td>56.138500</td>\n",
       "      <td>54.656502</td>\n",
       "      <td>55.851501</td>\n",
       "      <td>55.851501</td>\n",
       "      <td>56410000</td>\n",
       "    </tr>\n",
       "    <tr>\n",
       "      <th>2020-04-03</th>\n",
       "      <td>55.735500</td>\n",
       "      <td>55.939499</td>\n",
       "      <td>53.754002</td>\n",
       "      <td>54.634998</td>\n",
       "      <td>54.634998</td>\n",
       "      <td>51374000</td>\n",
       "    </tr>\n",
       "    <tr>\n",
       "      <th>2020-04-06</th>\n",
       "      <td>56.650002</td>\n",
       "      <td>59.537498</td>\n",
       "      <td>56.250000</td>\n",
       "      <td>59.159500</td>\n",
       "      <td>59.159500</td>\n",
       "      <td>63320000</td>\n",
       "    </tr>\n",
       "    <tr>\n",
       "      <th>2020-04-07</th>\n",
       "      <td>60.850498</td>\n",
       "      <td>61.039001</td>\n",
       "      <td>58.862499</td>\n",
       "      <td>59.127998</td>\n",
       "      <td>59.127998</td>\n",
       "      <td>61620000</td>\n",
       "    </tr>\n",
       "  </tbody>\n",
       "</table>\n",
       "</div>"
      ],
      "text/plain": [
       "                 Open       High        Low      Close  Adj Close    Volume\n",
       "Date                                                                       \n",
       "2020-04-01  56.200001  56.471001  54.674500  55.105000  55.105000  51970000\n",
       "2020-04-02  55.000000  56.138500  54.656502  55.851501  55.851501  56410000\n",
       "2020-04-03  55.735500  55.939499  53.754002  54.634998  54.634998  51374000\n",
       "2020-04-06  56.650002  59.537498  56.250000  59.159500  59.159500  63320000\n",
       "2020-04-07  60.850498  61.039001  58.862499  59.127998  59.127998  61620000"
      ]
     },
     "execution_count": 2,
     "metadata": {},
     "output_type": "execute_result"
    }
   ],
   "source": [
    "start_date = dt.datetime(2020,4,1)\n",
    "end_date = dt.datetime(2023,4,1)\n",
    " \n",
    "#loading from yahoo finance\n",
    "data = yf.download(\"GOOGL\",start_date, end_date)\n",
    " \n",
    "# pd.set_option('display.max_rows', 4)\n",
    "# pd.set_option('display.max_columns',5)\n",
    "\n",
    "data.head()"
   ]
  },
  {
   "cell_type": "code",
   "execution_count": 3,
   "metadata": {},
   "outputs": [
    {
     "name": "stdout",
     "output_type": "stream",
     "text": [
      "(605, 1) (151, 1)\n"
     ]
    }
   ],
   "source": [
    "# Setting 80 percent data for training\n",
    "training_data_len = math.ceil(len(data) * .8)\n",
    "training_data_len \n",
    "\n",
    "#Splitting the dataset\n",
    "train_data = data[:training_data_len].iloc[:,:1] \n",
    "test_data = data[training_data_len:].iloc[:,:1]\n",
    "print(train_data.shape, test_data.shape)\n"
   ]
  },
  {
   "cell_type": "code",
   "execution_count": 8,
   "metadata": {},
   "outputs": [
    {
     "data": {
      "text/plain": [
       "(605, 1)"
      ]
     },
     "execution_count": 8,
     "metadata": {},
     "output_type": "execute_result"
    }
   ],
   "source": [
    "# Selecting Open Price values\n",
    "dataset_train = train_data.Open.values \n",
    "# Reshaping 1D to 2D array\n",
    "dataset_train = np.reshape(dataset_train, (-1,1)) \n",
    "pd.DataFrame(dataset_train).head()\n",
    "dataset_train.shape\n",
    "\n"
   ]
  },
  {
   "cell_type": "code",
   "execution_count": 5,
   "metadata": {},
   "outputs": [
    {
     "name": "stdout",
     "output_type": "stream",
     "text": [
      "[[0.01246754]\n",
      " [0.        ]\n",
      " [0.00764156]\n",
      " [0.01714287]\n",
      " [0.0607844 ]]\n"
     ]
    },
    {
     "data": {
      "text/plain": [
       "(605, 1)"
      ]
     },
     "execution_count": 5,
     "metadata": {},
     "output_type": "execute_result"
    }
   ],
   "source": [
    "from sklearn.preprocessing import MinMaxScaler\n",
    "scaler = MinMaxScaler(feature_range=(0,1))\n",
    "# scaling dataset\n",
    "scaled_train = scaler.fit_transform(dataset_train)\n",
    "\n",
    "print(scaled_train[:5])\n",
    "\n",
    "scaled_train.shape"
   ]
  },
  {
   "cell_type": "code",
   "execution_count": 6,
   "metadata": {},
   "outputs": [
    {
     "name": "stdout",
     "output_type": "stream",
     "text": [
      "[0.98362881] [1.] [0.83867656] [0.84481572] [0.86118691]\n"
     ]
    }
   ],
   "source": [
    "# Selecting Open Price values\n",
    "dataset_test = test_data.Open.values \n",
    "# Reshaping 1D to 2D array\n",
    "dataset_test = np.reshape(dataset_test, (-1,1)) \n",
    "# Normalizing values between 0 and 1\n",
    "scaled_test = scaler.fit_transform(dataset_test) \n",
    "print(*scaled_test[:5])\n"
   ]
  },
  {
   "cell_type": "code",
   "execution_count": 7,
   "metadata": {},
   "outputs": [
    {
     "data": {
      "text/html": [
       "<div>\n",
       "<style scoped>\n",
       "    .dataframe tbody tr th:only-of-type {\n",
       "        vertical-align: middle;\n",
       "    }\n",
       "\n",
       "    .dataframe tbody tr th {\n",
       "        vertical-align: top;\n",
       "    }\n",
       "\n",
       "    .dataframe thead th {\n",
       "        text-align: right;\n",
       "    }\n",
       "</style>\n",
       "<table border=\"1\" class=\"dataframe\">\n",
       "  <thead>\n",
       "    <tr style=\"text-align: right;\">\n",
       "      <th></th>\n",
       "      <th>0</th>\n",
       "      <th>1</th>\n",
       "      <th>2</th>\n",
       "      <th>3</th>\n",
       "      <th>4</th>\n",
       "      <th>5</th>\n",
       "      <th>6</th>\n",
       "      <th>7</th>\n",
       "      <th>8</th>\n",
       "      <th>9</th>\n",
       "      <th>...</th>\n",
       "      <th>40</th>\n",
       "      <th>41</th>\n",
       "      <th>42</th>\n",
       "      <th>43</th>\n",
       "      <th>44</th>\n",
       "      <th>45</th>\n",
       "      <th>46</th>\n",
       "      <th>47</th>\n",
       "      <th>48</th>\n",
       "      <th>49</th>\n",
       "    </tr>\n",
       "  </thead>\n",
       "  <tbody>\n",
       "    <tr>\n",
       "      <th>0</th>\n",
       "      <td>0.012468</td>\n",
       "      <td>0.000000</td>\n",
       "      <td>0.007642</td>\n",
       "      <td>0.017143</td>\n",
       "      <td>0.060784</td>\n",
       "      <td>0.053558</td>\n",
       "      <td>0.061392</td>\n",
       "      <td>0.052727</td>\n",
       "      <td>0.072712</td>\n",
       "      <td>0.076109</td>\n",
       "      <td>...</td>\n",
       "      <td>0.166457</td>\n",
       "      <td>0.169195</td>\n",
       "      <td>0.174026</td>\n",
       "      <td>0.178026</td>\n",
       "      <td>0.174951</td>\n",
       "      <td>0.163969</td>\n",
       "      <td>0.169496</td>\n",
       "      <td>0.179345</td>\n",
       "      <td>0.187797</td>\n",
       "      <td>0.177158</td>\n",
       "    </tr>\n",
       "    <tr>\n",
       "      <th>1</th>\n",
       "      <td>0.000000</td>\n",
       "      <td>0.007642</td>\n",
       "      <td>0.017143</td>\n",
       "      <td>0.060784</td>\n",
       "      <td>0.053558</td>\n",
       "      <td>0.061392</td>\n",
       "      <td>0.052727</td>\n",
       "      <td>0.072712</td>\n",
       "      <td>0.076109</td>\n",
       "      <td>0.086826</td>\n",
       "      <td>...</td>\n",
       "      <td>0.169195</td>\n",
       "      <td>0.174026</td>\n",
       "      <td>0.178026</td>\n",
       "      <td>0.174951</td>\n",
       "      <td>0.163969</td>\n",
       "      <td>0.169496</td>\n",
       "      <td>0.179345</td>\n",
       "      <td>0.187797</td>\n",
       "      <td>0.177158</td>\n",
       "      <td>0.169278</td>\n",
       "    </tr>\n",
       "    <tr>\n",
       "      <th>2</th>\n",
       "      <td>0.007642</td>\n",
       "      <td>0.017143</td>\n",
       "      <td>0.060784</td>\n",
       "      <td>0.053558</td>\n",
       "      <td>0.061392</td>\n",
       "      <td>0.052727</td>\n",
       "      <td>0.072712</td>\n",
       "      <td>0.076109</td>\n",
       "      <td>0.086826</td>\n",
       "      <td>0.094390</td>\n",
       "      <td>...</td>\n",
       "      <td>0.174026</td>\n",
       "      <td>0.178026</td>\n",
       "      <td>0.174951</td>\n",
       "      <td>0.163969</td>\n",
       "      <td>0.169496</td>\n",
       "      <td>0.179345</td>\n",
       "      <td>0.187797</td>\n",
       "      <td>0.177158</td>\n",
       "      <td>0.169278</td>\n",
       "      <td>0.150384</td>\n",
       "    </tr>\n",
       "    <tr>\n",
       "      <th>3</th>\n",
       "      <td>0.017143</td>\n",
       "      <td>0.060784</td>\n",
       "      <td>0.053558</td>\n",
       "      <td>0.061392</td>\n",
       "      <td>0.052727</td>\n",
       "      <td>0.072712</td>\n",
       "      <td>0.076109</td>\n",
       "      <td>0.086826</td>\n",
       "      <td>0.094390</td>\n",
       "      <td>0.088255</td>\n",
       "      <td>...</td>\n",
       "      <td>0.178026</td>\n",
       "      <td>0.174951</td>\n",
       "      <td>0.163969</td>\n",
       "      <td>0.169496</td>\n",
       "      <td>0.179345</td>\n",
       "      <td>0.187797</td>\n",
       "      <td>0.177158</td>\n",
       "      <td>0.169278</td>\n",
       "      <td>0.150384</td>\n",
       "      <td>0.181299</td>\n",
       "    </tr>\n",
       "    <tr>\n",
       "      <th>4</th>\n",
       "      <td>0.060784</td>\n",
       "      <td>0.053558</td>\n",
       "      <td>0.061392</td>\n",
       "      <td>0.052727</td>\n",
       "      <td>0.072712</td>\n",
       "      <td>0.076109</td>\n",
       "      <td>0.086826</td>\n",
       "      <td>0.094390</td>\n",
       "      <td>0.088255</td>\n",
       "      <td>0.074135</td>\n",
       "      <td>...</td>\n",
       "      <td>0.174951</td>\n",
       "      <td>0.163969</td>\n",
       "      <td>0.169496</td>\n",
       "      <td>0.179345</td>\n",
       "      <td>0.187797</td>\n",
       "      <td>0.177158</td>\n",
       "      <td>0.169278</td>\n",
       "      <td>0.150384</td>\n",
       "      <td>0.181299</td>\n",
       "      <td>0.183345</td>\n",
       "    </tr>\n",
       "  </tbody>\n",
       "</table>\n",
       "<p>5 rows × 50 columns</p>\n",
       "</div>"
      ],
      "text/plain": [
       "         0         1         2         3         4         5         6   \\\n",
       "0  0.012468  0.000000  0.007642  0.017143  0.060784  0.053558  0.061392   \n",
       "1  0.000000  0.007642  0.017143  0.060784  0.053558  0.061392  0.052727   \n",
       "2  0.007642  0.017143  0.060784  0.053558  0.061392  0.052727  0.072712   \n",
       "3  0.017143  0.060784  0.053558  0.061392  0.052727  0.072712  0.076109   \n",
       "4  0.060784  0.053558  0.061392  0.052727  0.072712  0.076109  0.086826   \n",
       "\n",
       "         7         8         9   ...        40        41        42        43  \\\n",
       "0  0.052727  0.072712  0.076109  ...  0.166457  0.169195  0.174026  0.178026   \n",
       "1  0.072712  0.076109  0.086826  ...  0.169195  0.174026  0.178026  0.174951   \n",
       "2  0.076109  0.086826  0.094390  ...  0.174026  0.178026  0.174951  0.163969   \n",
       "3  0.086826  0.094390  0.088255  ...  0.178026  0.174951  0.163969  0.169496   \n",
       "4  0.094390  0.088255  0.074135  ...  0.174951  0.163969  0.169496  0.179345   \n",
       "\n",
       "         44        45        46        47        48        49  \n",
       "0  0.174951  0.163969  0.169496  0.179345  0.187797  0.177158  \n",
       "1  0.163969  0.169496  0.179345  0.187797  0.177158  0.169278  \n",
       "2  0.169496  0.179345  0.187797  0.177158  0.169278  0.150384  \n",
       "3  0.179345  0.187797  0.177158  0.169278  0.150384  0.181299  \n",
       "4  0.187797  0.177158  0.169278  0.150384  0.181299  0.183345  \n",
       "\n",
       "[5 rows x 50 columns]"
      ]
     },
     "execution_count": 7,
     "metadata": {},
     "output_type": "execute_result"
    }
   ],
   "source": [
    "X_train = []\n",
    "y_train = []\n",
    "for i in range(50, len(scaled_train)):\n",
    "\tX_train.append(scaled_train[i-50:i, 0])\n",
    "\ty_train.append(scaled_train[i, 0])\n",
    "\t# if i <= 51:\n",
    "\t# \tprint(X_train)\n",
    "\t# \tprint(y_train)\n",
    "\t# \tprint()\n",
    "\n",
    "pd.DataFrame(X_train).head()\n"
   ]
  },
  {
   "cell_type": "code",
   "execution_count": 12,
   "metadata": {},
   "outputs": [],
   "source": [
    "X_test = []\n",
    "y_test = []\n",
    "for i in range(50, len(scaled_test)):\n",
    "\tX_test.append(scaled_test[i-50:i, 0])\n",
    "\ty_test.append(scaled_test[i, 0])\n"
   ]
  },
  {
   "cell_type": "code",
   "execution_count": 10,
   "metadata": {},
   "outputs": [
    {
     "name": "stdout",
     "output_type": "stream",
     "text": [
      "X_train : (555, 50, 1) y_train : (555, 1)\n"
     ]
    }
   ],
   "source": [
    "# The data is converted to Numpy array\n",
    "X_train, y_train = np.array(X_train), np.array(y_train)\n",
    "\n",
    "#Reshaping\n",
    "X_train = np.reshape(X_train, (X_train.shape[0], X_train.shape[1],1))\n",
    "y_train = np.reshape(y_train, (y_train.shape[0],1))\n",
    "print(\"X_train :\",X_train.shape,\"y_train :\",y_train.shape)\n"
   ]
  },
  {
   "cell_type": "code",
   "execution_count": 13,
   "metadata": {},
   "outputs": [
    {
     "name": "stdout",
     "output_type": "stream",
     "text": [
      "X_test : (101, 50, 1) y_test : (101, 1)\n"
     ]
    }
   ],
   "source": [
    "# The data is converted to numpy array\n",
    "X_test, y_test = np.array(X_test), np.array(y_test)\n",
    "\n",
    "#Reshaping\n",
    "X_test = np.reshape(X_test, (X_test.shape[0], X_test.shape[1],1))\n",
    "y_test = np.reshape(y_test, (y_test.shape[0],1))\n",
    "print(\"X_test :\",X_test.shape,\"y_test :\",y_test.shape)\n"
   ]
  }
 ],
 "metadata": {
  "kernelspec": {
   "display_name": "nn",
   "language": "python",
   "name": "python3"
  },
  "language_info": {
   "codemirror_mode": {
    "name": "ipython",
    "version": 3
   },
   "file_extension": ".py",
   "mimetype": "text/x-python",
   "name": "python",
   "nbconvert_exporter": "python",
   "pygments_lexer": "ipython3",
   "version": "3.11.7"
  }
 },
 "nbformat": 4,
 "nbformat_minor": 2
}
